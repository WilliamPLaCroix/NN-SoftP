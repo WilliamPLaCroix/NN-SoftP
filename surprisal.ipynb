{
 "cells": [
  {
   "cell_type": "code",
   "execution_count": 6,
   "metadata": {},
   "outputs": [],
   "source": [
    "from huggingface_hub import login\n",
    "from datasets import load_dataset\n",
    "from transformers import AutoTokenizer, AutoModelForCausalLM, XLMRobertaTokenizerFast, XLMRobertaXLForCausalLM, DataCollatorWithPadding\n",
    "import torch\n",
    "from torch.utils.data import DataLoader\n",
    "import numpy as np\n",
    "from tqdm import tqdm"
   ]
  },
  {
   "cell_type": "code",
   "execution_count": 2,
   "metadata": {},
   "outputs": [
    {
     "name": "stderr",
     "output_type": "stream",
     "text": [
      "You are using a model of type xlm-roberta to instantiate a model of type xlm-roberta-xl. This is not supported for all configurations of models and can yield errors.\n",
      "If you want to use `RobertaLMHeadModel` as a standalone, add `is_decoder=True.`\n",
      "Some weights of XLMRobertaXLForCausalLM were not initialized from the model checkpoint at xlm-roberta-base and are newly initialized: ['roberta.encoder.layer.8.LayerNorm.weight', 'roberta.encoder.layer.9.attention.self_attn_layer_norm.bias', 'roberta.encoder.layer.8.attention.self_attn_layer_norm.bias', 'roberta.encoder.layer.11.attention.self_attn_layer_norm.bias', 'roberta.encoder.layer.0.attention.self_attn_layer_norm.weight', 'roberta.encoder.layer.11.attention.self_attn_layer_norm.weight', 'roberta.encoder.layer.7.LayerNorm.bias', 'roberta.encoder.layer.11.LayerNorm.weight', 'roberta.encoder.layer.3.LayerNorm.bias', 'roberta.encoder.layer.0.attention.self_attn_layer_norm.bias', 'roberta.encoder.layer.2.attention.self_attn_layer_norm.bias', 'roberta.encoder.layer.5.attention.self_attn_layer_norm.bias', 'roberta.encoder.layer.10.attention.self_attn_layer_norm.bias', 'roberta.encoder.layer.9.attention.self_attn_layer_norm.weight', 'roberta.encoder.layer.4.attention.self_attn_layer_norm.weight', 'roberta.encoder.layer.10.LayerNorm.bias', 'roberta.encoder.layer.4.LayerNorm.weight', 'roberta.encoder.layer.1.LayerNorm.bias', 'roberta.encoder.layer.2.attention.self_attn_layer_norm.weight', 'roberta.encoder.layer.9.LayerNorm.weight', 'roberta.encoder.layer.8.LayerNorm.bias', 'roberta.encoder.layer.1.attention.self_attn_layer_norm.bias', 'roberta.encoder.layer.7.attention.self_attn_layer_norm.bias', 'roberta.encoder.layer.2.LayerNorm.weight', 'roberta.encoder.LayerNorm.bias', 'roberta.encoder.layer.4.attention.self_attn_layer_norm.bias', 'roberta.encoder.layer.6.attention.self_attn_layer_norm.bias', 'roberta.encoder.layer.1.LayerNorm.weight', 'roberta.encoder.layer.7.LayerNorm.weight', 'roberta.encoder.layer.8.attention.self_attn_layer_norm.weight', 'roberta.encoder.layer.6.LayerNorm.weight', 'roberta.encoder.layer.1.attention.self_attn_layer_norm.weight', 'roberta.encoder.layer.2.LayerNorm.bias', 'roberta.encoder.layer.0.LayerNorm.weight', 'roberta.encoder.layer.0.LayerNorm.bias', 'roberta.encoder.layer.11.LayerNorm.bias', 'roberta.encoder.layer.3.LayerNorm.weight', 'roberta.encoder.layer.5.attention.self_attn_layer_norm.weight', 'roberta.encoder.LayerNorm.weight', 'roberta.encoder.layer.5.LayerNorm.bias', 'roberta.encoder.layer.4.LayerNorm.bias', 'roberta.encoder.layer.3.attention.self_attn_layer_norm.weight', 'roberta.encoder.layer.10.LayerNorm.weight', 'roberta.encoder.layer.7.attention.self_attn_layer_norm.weight', 'roberta.encoder.layer.5.LayerNorm.weight', 'roberta.encoder.layer.9.LayerNorm.bias', 'roberta.encoder.layer.3.attention.self_attn_layer_norm.bias', 'roberta.encoder.layer.6.LayerNorm.bias', 'roberta.encoder.layer.10.attention.self_attn_layer_norm.weight', 'roberta.encoder.layer.6.attention.self_attn_layer_norm.weight']\n",
      "You should probably TRAIN this model on a down-stream task to be able to use it for predictions and inference.\n"
     ]
    }
   ],
   "source": [
    "tokenizer = XLMRobertaTokenizerFast.from_pretrained(\"xlm-roberta-base\")\n",
    "model = XLMRobertaXLForCausalLM.from_pretrained(\"xlm-roberta-base\")"
   ]
  },
  {
   "cell_type": "code",
   "execution_count": 9,
   "metadata": {},
   "outputs": [],
   "source": [
    "tokens = tokenizer(\"I am bald unbelievable.\", return_tensors=\"pt\")\n",
    "with torch.no_grad():\n",
    "    outputs = model(**tokens)\n"
   ]
  },
  {
   "cell_type": "code",
   "execution_count": 20,
   "metadata": {},
   "outputs": [],
   "source": [
    "output_ids = tokens[\"input_ids\"].squeeze(0)[1:-1]\n",
    "index = torch.arange(0, output_ids.shape[0])\n",
    "surp = -1 * torch.log2(torch.nn.functional.softmax(outputs.logits, dim=-1).squeeze(0)[index, output_ids])\n",
    "surp"
   ]
  },
  {
   "cell_type": "code",
   "execution_count": 26,
   "metadata": {},
   "outputs": [],
   "source": [
    "ids = np.array(ids)\n",
    "surprisal_values = surp.numpy()\n",
    "\n",
    "word_surprisal_sum = np.bincount(ids, weights=surprisal_values)\n",
    "word_counts = np.bincount(ids)\n",
    "word_surprisal_avg = word_surprisal_sum / word_counts\n",
    "word_surprisal_avg"
   ]
  },
  {
   "cell_type": "code",
   "execution_count": 37,
   "metadata": {},
   "outputs": [],
   "source": [
    "def calc_word_surprisal(tokens, output):\n",
    "    out_ids = tokens[\"input_ids\"].squeeze(0)[1:-1]\n",
    "    mask = torch.arange(0, out_ids.shape[0])\n",
    "    subword_surp = -1 * torch.log2(torch.nn.functional.softmax(outputs.logits, dim=-1).squeeze(0)[index, output_ids])\n",
    "\n",
    "    ids = np.array(tokens.word_ids()[1:-1])\n",
    "    word_surp_sum = np.bincount(ids, weights=subword_surp.numpy())\n",
    "    word_cnts = np.bincount(ids)\n",
    "    word_surp_avg = word_surp_sum / word_cnts\n",
    "    return word_surprisal_avg\n",
    "\n",
    "calc_word_surprisal(tokens, outputs)"
   ]
  },
  {
   "cell_type": "code",
   "execution_count": 4,
   "metadata": {},
   "outputs": [],
   "source": [
    "dataset = load_dataset(\"liar\")\n",
    "\n",
    "def tokenize(batch):\n",
    "    return tokenizer(batch[\"statement\"], padding=True, max_length=512, truncation=True)\n",
    "\n",
    "tokenized_ds = dataset.map(tokenize, batched=True)\n",
    "data_collator = DataCollatorWithPadding(tokenizer=tokenizer)\n",
    "tokenized_ds.set_format(type='torch', columns=['input_ids', 'attention_mask'])\n",
    "data_loader = DataLoader(tokenized_ds[\"train\"], batch_size=8, shuffle=True, collate_fn=data_collator)"
   ]
  },
  {
   "cell_type": "code",
   "execution_count": 11,
   "metadata": {},
   "outputs": [
    {
     "ename": "TypeError",
     "evalue": "'DataLoader' object is not subscriptable",
     "output_type": "error",
     "traceback": [
      "\u001b[0;31m---------------------------------------------------------------------------\u001b[0m",
      "\u001b[0;31mTypeError\u001b[0m                                 Traceback (most recent call last)",
      "\u001b[1;32m/home/wolfingten/ml/misinformation/surprisal.ipynb Cell 8\u001b[0m line \u001b[0;36m1\n\u001b[0;32m----> <a href='vscode-notebook-cell:/home/wolfingten/ml/misinformation/surprisal.ipynb#X10sZmlsZQ%3D%3D?line=0'>1</a>\u001b[0m \u001b[39mfor\u001b[39;00m batch \u001b[39min\u001b[39;00m tqdm(data_loader[:\u001b[39m5\u001b[39;49m]):\n\u001b[1;32m      <a href='vscode-notebook-cell:/home/wolfingten/ml/misinformation/surprisal.ipynb#X10sZmlsZQ%3D%3D?line=1'>2</a>\u001b[0m     input_ids \u001b[39m=\u001b[39m batch\u001b[39m.\u001b[39minput_ids\n\u001b[1;32m      <a href='vscode-notebook-cell:/home/wolfingten/ml/misinformation/surprisal.ipynb#X10sZmlsZQ%3D%3D?line=2'>3</a>\u001b[0m     output_ids \u001b[39m=\u001b[39m input_ids\u001b[39m.\u001b[39msqueeze(\u001b[39m0\u001b[39m)[\u001b[39m1\u001b[39m:]\n",
      "\u001b[0;31mTypeError\u001b[0m: 'DataLoader' object is not subscriptable"
     ]
    }
   ],
   "source": [
    "for batch in tqdm(data_loader):\n",
    "    input_ids = batch.input_ids\n",
    "    output_ids = input_ids.squeeze(0)[1:]\n",
    "\n",
    "    with torch.no_grad():\n",
    "        model_output = model(**batch)\n",
    "    \n",
    "    print(input_ids)\n",
    "#    tokens = tokenizer.convert_ids_to_tokens(input_ids)\n",
    "#    index = torch.arange(0, output_ids.shape[0])\n",
    "#    surp = -1 * torch.log2(torch.nn.functional.softmax(outputs.logits, dim=-1).squeeze(0)[index, output_ids])\n"
   ]
  },
  {
   "cell_type": "code",
   "execution_count": 120,
   "metadata": {},
   "outputs": [
    {
     "ename": "RuntimeError",
     "evalue": "bincount only supports 1-d non-negative integral inputs.",
     "output_type": "error",
     "traceback": [
      "\u001b[0;31m---------------------------------------------------------------------------\u001b[0m",
      "\u001b[0;31mRuntimeError\u001b[0m                              Traceback (most recent call last)",
      "\u001b[1;32m/home/wolfingten/ml/misinformation/surprisal.ipynb Cell 9\u001b[0m line \u001b[0;36m1\n\u001b[1;32m     <a href='vscode-notebook-cell:/home/wolfingten/ml/misinformation/surprisal.ipynb#X25sZmlsZQ%3D%3D?line=9'>10</a>\u001b[0m probs \u001b[39m=\u001b[39m torch\u001b[39m.\u001b[39mgather(logits, dim\u001b[39m=\u001b[39m\u001b[39m2\u001b[39m, index\u001b[39m=\u001b[39mout_ids\u001b[39m.\u001b[39munsqueeze(dim\u001b[39m=\u001b[39m\u001b[39m2\u001b[39m))\u001b[39m.\u001b[39msqueeze(\u001b[39m-\u001b[39m\u001b[39m1\u001b[39m)\n\u001b[1;32m     <a href='vscode-notebook-cell:/home/wolfingten/ml/misinformation/surprisal.ipynb#X25sZmlsZQ%3D%3D?line=10'>11</a>\u001b[0m subword_surp \u001b[39m=\u001b[39m \u001b[39m-\u001b[39m\u001b[39m1\u001b[39m \u001b[39m*\u001b[39m torch\u001b[39m.\u001b[39mlog2(probs) \u001b[39m*\u001b[39m batch\u001b[39m.\u001b[39mattention_mask\n\u001b[0;32m---> <a href='vscode-notebook-cell:/home/wolfingten/ml/misinformation/surprisal.ipynb#X25sZmlsZQ%3D%3D?line=12'>13</a>\u001b[0m word_surp_sum \u001b[39m=\u001b[39m torch\u001b[39m.\u001b[39;49mbincount(out_ids, weights\u001b[39m=\u001b[39;49msubword_surp)\n\u001b[1;32m     <a href='vscode-notebook-cell:/home/wolfingten/ml/misinformation/surprisal.ipynb#X25sZmlsZQ%3D%3D?line=13'>14</a>\u001b[0m \u001b[39m#word_cnts = np.bincount(ids)\u001b[39;00m\n\u001b[1;32m     <a href='vscode-notebook-cell:/home/wolfingten/ml/misinformation/surprisal.ipynb#X25sZmlsZQ%3D%3D?line=14'>15</a>\u001b[0m \u001b[39m#word_surp_avg = word_surp_sum / word_cnts\u001b[39;00m\n",
      "\u001b[0;31mRuntimeError\u001b[0m: bincount only supports 1-d non-negative integral inputs."
     ]
    }
   ],
   "source": [
    "batch = next(iter(data_loader))\n",
    "\n",
    "out_ids = batch.input_ids  # Remove special tokens\n",
    "index = torch.arange(out_ids.shape[1])\n",
    "\n",
    "with torch.no_grad():\n",
    "    model_output = model(**batch)\n",
    "\n",
    "logits = torch.nn.functional.softmax(model_output.logits, dim=-1)\n",
    "probs = torch.gather(logits, dim=2, index=out_ids.unsqueeze(dim=2)).squeeze(-1)\n",
    "subword_surp = -1 * torch.log2(probs) * batch.attention_mask\n",
    "\n",
    "#word_surp_sum = torch.bincount(out_ids, weights=subword_surp)\n",
    "#word_cnts = np.bincount(ids)\n",
    "#word_surp_avg = word_surp_sum / word_cnts\n"
   ]
  },
  {
   "cell_type": "code",
   "execution_count": 111,
   "metadata": {},
   "outputs": [
    {
     "name": "stdout",
     "output_type": "stream",
     "text": [
      "torch.Size([8, 92])\n",
      "torch.Size([92])\n",
      "torch.Size([8, 92, 250002])\n",
      "torch.Size([8, 92])\n"
     ]
    }
   ],
   "source": [
    "print(out_ids.shape)\n",
    "print(index.shape)\n",
    "print(model_output.logits.shape)\n",
    "print(subword_surp.shape)"
   ]
  },
  {
   "cell_type": "code",
   "execution_count": 127,
   "metadata": {},
   "outputs": [
    {
     "data": {
      "text/plain": [
       "tensor([  8, 485,   8,  ...,   0,   0,   1])"
      ]
     },
     "execution_count": 127,
     "metadata": {},
     "output_type": "execute_result"
    }
   ],
   "source": [
    "torch.bincount(out_ids.flatten())"
   ]
  },
  {
   "cell_type": "code",
   "execution_count": 124,
   "metadata": {},
   "outputs": [
    {
     "data": {
      "text/plain": [
       "tensor([468.1062,   0.0000, 134.6543,  ...,   0.0000,   0.0000,  27.2714])"
      ]
     },
     "execution_count": 124,
     "metadata": {},
     "output_type": "execute_result"
    }
   ],
   "source": [
    "torch.bincount(out_ids.flatten(), weights=subword_surp.flatten())"
   ]
  }
 ],
 "metadata": {
  "kernelspec": {
   "display_name": "ML",
   "language": "python",
   "name": "ml"
  },
  "language_info": {
   "codemirror_mode": {
    "name": "ipython",
    "version": 3
   },
   "file_extension": ".py",
   "mimetype": "text/x-python",
   "name": "python",
   "nbconvert_exporter": "python",
   "pygments_lexer": "ipython3",
   "version": "3.11.2"
  }
 },
 "nbformat": 4,
 "nbformat_minor": 2
}
