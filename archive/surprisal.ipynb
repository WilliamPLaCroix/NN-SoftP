{
 "cells": [
  {
   "cell_type": "code",
   "execution_count": 6,
   "metadata": {},
   "outputs": [],
   "source": [
    "from huggingface_hub import login\n",
    "from datasets import load_dataset\n",
    "from transformers import AutoTokenizer, AutoModelForCausalLM, XLMRobertaTokenizerFast, XLMRobertaXLForCausalLM, DataCollatorWithPadding\n",
    "import torch\n",
    "from torch.utils.data import DataLoader\n",
    "import numpy as np\n",
    "from tqdm import tqdm"
   ]
  },
  {
   "cell_type": "code",
   "execution_count": 2,
   "metadata": {},
   "outputs": [
    {
     "name": "stderr",
     "output_type": "stream",
     "text": [
      "You are using a model of type xlm-roberta to instantiate a model of type xlm-roberta-xl. This is not supported for all configurations of models and can yield errors.\n",
      "If you want to use `RobertaLMHeadModel` as a standalone, add `is_decoder=True.`\n",
      "Some weights of XLMRobertaXLForCausalLM were not initialized from the model checkpoint at xlm-roberta-base and are newly initialized: ['roberta.encoder.layer.8.LayerNorm.weight', 'roberta.encoder.layer.9.attention.self_attn_layer_norm.bias', 'roberta.encoder.layer.8.attention.self_attn_layer_norm.bias', 'roberta.encoder.layer.11.attention.self_attn_layer_norm.bias', 'roberta.encoder.layer.0.attention.self_attn_layer_norm.weight', 'roberta.encoder.layer.11.attention.self_attn_layer_norm.weight', 'roberta.encoder.layer.7.LayerNorm.bias', 'roberta.encoder.layer.11.LayerNorm.weight', 'roberta.encoder.layer.3.LayerNorm.bias', 'roberta.encoder.layer.0.attention.self_attn_layer_norm.bias', 'roberta.encoder.layer.2.attention.self_attn_layer_norm.bias', 'roberta.encoder.layer.5.attention.self_attn_layer_norm.bias', 'roberta.encoder.layer.10.attention.self_attn_layer_norm.bias', 'roberta.encoder.layer.9.attention.self_attn_layer_norm.weight', 'roberta.encoder.layer.4.attention.self_attn_layer_norm.weight', 'roberta.encoder.layer.10.LayerNorm.bias', 'roberta.encoder.layer.4.LayerNorm.weight', 'roberta.encoder.layer.1.LayerNorm.bias', 'roberta.encoder.layer.2.attention.self_attn_layer_norm.weight', 'roberta.encoder.layer.9.LayerNorm.weight', 'roberta.encoder.layer.8.LayerNorm.bias', 'roberta.encoder.layer.1.attention.self_attn_layer_norm.bias', 'roberta.encoder.layer.7.attention.self_attn_layer_norm.bias', 'roberta.encoder.layer.2.LayerNorm.weight', 'roberta.encoder.LayerNorm.bias', 'roberta.encoder.layer.4.attention.self_attn_layer_norm.bias', 'roberta.encoder.layer.6.attention.self_attn_layer_norm.bias', 'roberta.encoder.layer.1.LayerNorm.weight', 'roberta.encoder.layer.7.LayerNorm.weight', 'roberta.encoder.layer.8.attention.self_attn_layer_norm.weight', 'roberta.encoder.layer.6.LayerNorm.weight', 'roberta.encoder.layer.1.attention.self_attn_layer_norm.weight', 'roberta.encoder.layer.2.LayerNorm.bias', 'roberta.encoder.layer.0.LayerNorm.weight', 'roberta.encoder.layer.0.LayerNorm.bias', 'roberta.encoder.layer.11.LayerNorm.bias', 'roberta.encoder.layer.3.LayerNorm.weight', 'roberta.encoder.layer.5.attention.self_attn_layer_norm.weight', 'roberta.encoder.LayerNorm.weight', 'roberta.encoder.layer.5.LayerNorm.bias', 'roberta.encoder.layer.4.LayerNorm.bias', 'roberta.encoder.layer.3.attention.self_attn_layer_norm.weight', 'roberta.encoder.layer.10.LayerNorm.weight', 'roberta.encoder.layer.7.attention.self_attn_layer_norm.weight', 'roberta.encoder.layer.5.LayerNorm.weight', 'roberta.encoder.layer.9.LayerNorm.bias', 'roberta.encoder.layer.3.attention.self_attn_layer_norm.bias', 'roberta.encoder.layer.6.LayerNorm.bias', 'roberta.encoder.layer.10.attention.self_attn_layer_norm.weight', 'roberta.encoder.layer.6.attention.self_attn_layer_norm.weight']\n",
      "You should probably TRAIN this model on a down-stream task to be able to use it for predictions and inference.\n"
     ]
    }
   ],
   "source": [
    "tokenizer = XLMRobertaTokenizerFast.from_pretrained(\"xlm-roberta-base\")\n",
    "model = XLMRobertaXLForCausalLM.from_pretrained(\"xlm-roberta-base\")"
   ]
  },
  {
   "cell_type": "code",
   "execution_count": 9,
   "metadata": {},
   "outputs": [],
   "source": [
    "tokens = tokenizer(\"I am bald unbelievable.\", return_tensors=\"pt\")\n",
    "with torch.no_grad():\n",
    "    outputs = model(**tokens)\n"
   ]
  },
  {
   "cell_type": "code",
   "execution_count": 20,
   "metadata": {},
   "outputs": [],
   "source": [
    "output_ids = tokens[\"input_ids\"].squeeze(0)[1:-1]\n",
    "index = torch.arange(0, output_ids.shape[0])\n",
    "surp = -1 * torch.log2(torch.nn.functional.softmax(outputs.logits, dim=-1).squeeze(0)[index, output_ids])\n",
    "surp"
   ]
  },
  {
   "cell_type": "code",
   "execution_count": 26,
   "metadata": {},
   "outputs": [],
   "source": [
    "ids = np.array(ids)\n",
    "surprisal_values = surp.numpy()\n",
    "\n",
    "word_surprisal_sum = np.bincount(ids, weights=surprisal_values)\n",
    "word_counts = np.bincount(ids)\n",
    "word_surprisal_avg = word_surprisal_sum / word_counts\n",
    "word_surprisal_avg"
   ]
  },
  {
   "cell_type": "code",
   "execution_count": 37,
   "metadata": {},
   "outputs": [],
   "source": [
    "def calc_word_surprisal(tokens, output):\n",
    "    out_ids = tokens[\"input_ids\"].squeeze(0)[1:-1]\n",
    "    mask = torch.arange(0, out_ids.shape[0])\n",
    "    subword_surp = -1 * torch.log2(torch.nn.functional.softmax(outputs.logits, dim=-1).squeeze(0)[index, output_ids])\n",
    "\n",
    "    ids = np.array(tokens.word_ids()[1:-1])\n",
    "    word_surp_sum = np.bincount(ids, weights=subword_surp.numpy())\n",
    "    word_cnts = np.bincount(ids)\n",
    "    word_surp_avg = word_surp_sum / word_cnts\n",
    "    return word_surprisal_avg\n",
    "\n",
    "calc_word_surprisal(tokens, outputs)"
   ]
  },
  {
   "cell_type": "code",
   "execution_count": 4,
   "metadata": {},
   "outputs": [],
   "source": [
    "dataset = load_dataset(\"liar\")\n",
    "\n",
    "def tokenize(batch):\n",
    "    return tokenizer(batch[\"statement\"], padding=True, max_length=512, truncation=True)\n",
    "\n",
    "tokenized_ds = dataset.map(tokenize, batched=True)\n",
    "data_collator = DataCollatorWithPadding(tokenizer=tokenizer)\n",
    "tokenized_ds.set_format(type='torch', columns=['input_ids', 'attention_mask'])\n",
    "data_loader = DataLoader(tokenized_ds[\"train\"], batch_size=8, shuffle=True, collate_fn=data_collator)"
   ]
  },
  {
   "cell_type": "code",
   "execution_count": 11,
   "metadata": {},
   "outputs": [
    {
     "ename": "TypeError",
     "evalue": "'DataLoader' object is not subscriptable",
     "output_type": "error",
     "traceback": [
      "\u001b[0;31m---------------------------------------------------------------------------\u001b[0m",
      "\u001b[0;31mTypeError\u001b[0m                                 Traceback (most recent call last)",
      "\u001b[1;32m/home/wolfingten/ml/misinformation/surprisal.ipynb Cell 8\u001b[0m line \u001b[0;36m1\n\u001b[0;32m----> <a href='vscode-notebook-cell:/home/wolfingten/ml/misinformation/surprisal.ipynb#X10sZmlsZQ%3D%3D?line=0'>1</a>\u001b[0m \u001b[39mfor\u001b[39;00m batch \u001b[39min\u001b[39;00m tqdm(data_loader[:\u001b[39m5\u001b[39;49m]):\n\u001b[1;32m      <a href='vscode-notebook-cell:/home/wolfingten/ml/misinformation/surprisal.ipynb#X10sZmlsZQ%3D%3D?line=1'>2</a>\u001b[0m     input_ids \u001b[39m=\u001b[39m batch\u001b[39m.\u001b[39minput_ids\n\u001b[1;32m      <a href='vscode-notebook-cell:/home/wolfingten/ml/misinformation/surprisal.ipynb#X10sZmlsZQ%3D%3D?line=2'>3</a>\u001b[0m     output_ids \u001b[39m=\u001b[39m input_ids\u001b[39m.\u001b[39msqueeze(\u001b[39m0\u001b[39m)[\u001b[39m1\u001b[39m:]\n",
      "\u001b[0;31mTypeError\u001b[0m: 'DataLoader' object is not subscriptable"
     ]
    }
   ],
   "source": [
    "for batch in tqdm(data_loader):\n",
    "    input_ids = batch.input_ids\n",
    "    output_ids = input_ids.squeeze(0)[1:]\n",
    "\n",
    "    with torch.no_grad():\n",
    "        model_output = model(**batch)\n",
    "    \n",
    "    print(input_ids)\n",
    "#    tokens = tokenizer.convert_ids_to_tokens(input_ids)\n",
    "#    index = torch.arange(0, output_ids.shape[0])\n",
    "#    surp = -1 * torch.log2(torch.nn.functional.softmax(outputs.logits, dim=-1).squeeze(0)[index, output_ids])\n"
   ]
  },
  {
   "cell_type": "code",
   "execution_count": 132,
   "metadata": {},
   "outputs": [
    {
     "name": "stdout",
     "output_type": "stream",
     "text": [
      "tensor([     0,     44,   3957,  27047,   1363,    153,    450, 148643, 223230,\n",
      "          8060,      7,   2806,  22691,     70, 180210,    100,     70,  30361,\n",
      "         27759,     47,    613,    272,   2186,  15672, 130367,      7,     23,\n",
      "          2363,  10002,  23295,  15490,   2499,    166, 181960,     19,   2367,\n",
      "           991,  30441,    450,   1836,     25,    107,  44173,   9966,     23,\n",
      "         35107,      7,    678,  42998,      7,    707,   1672,  49602, 103488,\n",
      "          1242,      2,      1,      1,      1,      1,      1,      1,      1,\n",
      "             1,      1,      1,      1,      1,      1,      1,      1,      1,\n",
      "             1,      1,      1,      1,      1,      1,      1,      1,      1,\n",
      "             1,      1,      1,      1,      1,      1,      1,      1,      1,\n",
      "             1,      1,      1]) tensor([55.0760, 26.1327, 24.5543, 30.7954, 24.9200, 20.3812, 25.3112, 20.7829,\n",
      "        29.4138, 26.2192, 17.2606, 24.5721, 27.4999, 18.9025, 29.5062, 20.0969,\n",
      "        18.7878, 16.9882, 25.9175, 18.6537, 30.0691, 25.0285, 20.1138, 17.1873,\n",
      "        30.3908, 15.4191, 26.6466, 23.0051, 27.3201, 31.0857, 38.1541, 31.6743,\n",
      "        28.5614, 30.6123, 18.3385, 31.3226, 22.6892, 30.2397, 26.4510, 28.9442,\n",
      "        23.8337, 17.1484, 29.0956, 35.3431, 25.0326, 24.9979, 15.9416, 25.4102,\n",
      "        17.5234, 16.7756, 17.8590, 23.0828, 27.4923, 30.9791, 29.6162, 16.8992,\n",
      "         0.0000,  0.0000,  0.0000,  0.0000,  0.0000,  0.0000,  0.0000,  0.0000,\n",
      "         0.0000,  0.0000,  0.0000,  0.0000,  0.0000,  0.0000,  0.0000,  0.0000,\n",
      "         0.0000,  0.0000,  0.0000,  0.0000,  0.0000,  0.0000,  0.0000,  0.0000,\n",
      "         0.0000,  0.0000,  0.0000,  0.0000,  0.0000,  0.0000,  0.0000,  0.0000,\n",
      "         0.0000,  0.0000,  0.0000,  0.0000,  0.0000])\n"
     ]
    },
    {
     "ename": "RuntimeError",
     "evalue": "weights should be 1-d and have the same length as input",
     "output_type": "error",
     "traceback": [
      "\u001b[0;31m---------------------------------------------------------------------------\u001b[0m",
      "\u001b[0;31mRuntimeError\u001b[0m                              Traceback (most recent call last)",
      "\u001b[1;32m/home/wolfingten/ml/misinformation/surprisal.ipynb Cell 9\u001b[0m line \u001b[0;36m1\n\u001b[1;32m     <a href='vscode-notebook-cell:/home/wolfingten/ml/misinformation/surprisal.ipynb#X25sZmlsZQ%3D%3D?line=12'>13</a>\u001b[0m \u001b[39mfor\u001b[39;00m ids, surp \u001b[39min\u001b[39;00m \u001b[39mzip\u001b[39m(out_ids, subword_surp):\n\u001b[1;32m     <a href='vscode-notebook-cell:/home/wolfingten/ml/misinformation/surprisal.ipynb#X25sZmlsZQ%3D%3D?line=13'>14</a>\u001b[0m     \u001b[39mprint\u001b[39m(ids, surp)\n\u001b[0;32m---> <a href='vscode-notebook-cell:/home/wolfingten/ml/misinformation/surprisal.ipynb#X25sZmlsZQ%3D%3D?line=14'>15</a>\u001b[0m     word_surp_sum \u001b[39m=\u001b[39m torch\u001b[39m.\u001b[39;49mbincount(ids, weights\u001b[39m=\u001b[39;49msubword_surp)\n\u001b[1;32m     <a href='vscode-notebook-cell:/home/wolfingten/ml/misinformation/surprisal.ipynb#X25sZmlsZQ%3D%3D?line=15'>16</a>\u001b[0m     word_cnts \u001b[39m=\u001b[39m np\u001b[39m.\u001b[39mbincount(ids)\n\u001b[1;32m     <a href='vscode-notebook-cell:/home/wolfingten/ml/misinformation/surprisal.ipynb#X25sZmlsZQ%3D%3D?line=16'>17</a>\u001b[0m     word_surp_avg \u001b[39m=\u001b[39m word_surp_sum \u001b[39m/\u001b[39m word_cnts\n",
      "\u001b[0;31mRuntimeError\u001b[0m: weights should be 1-d and have the same length as input"
     ]
    }
   ],
   "source": [
    "batch = next(iter(data_loader))\n",
    "\n",
    "out_ids = batch.input_ids  # Remove special tokens\n",
    "index = torch.arange(out_ids.shape[1])\n",
    "\n",
    "with torch.no_grad():\n",
    "    model_output = model(**batch)\n",
    "\n",
    "logits = torch.nn.functional.softmax(model_output.logits, dim=-1)\n",
    "probs = torch.gather(logits, dim=2, index=out_ids.unsqueeze(dim=2)).squeeze(-1)\n",
    "subword_surp = -1 * torch.log2(probs) * batch.attention_mask\n",
    "\n",
    "for ids, surp in zip(out_ids, subword_surp):\n",
    "    print(ids, surp)\n",
    "    word_surp_sum = torch.bincount(ids, weights=subword_surp)\n",
    "    word_cnts = np.bincount(ids)\n",
    "    word_surp_avg = word_surp_sum / word_cnts\n"
   ]
  },
  {
   "cell_type": "code",
   "execution_count": 111,
   "metadata": {},
   "outputs": [
    {
     "name": "stdout",
     "output_type": "stream",
     "text": [
      "torch.Size([8, 92])\n",
      "torch.Size([92])\n",
      "torch.Size([8, 92, 250002])\n",
      "torch.Size([8, 92])\n"
     ]
    }
   ],
   "source": [
    "print(out_ids.shape)\n",
    "print(index.shape)\n",
    "print(model_output.logits.shape)\n",
    "print(subword_surp.shape)"
   ]
  },
  {
   "cell_type": "code",
   "execution_count": 146,
   "metadata": {},
   "outputs": [],
   "source": [
    "tokens = tokenizer.convert_ids_to_tokens(out_ids[0])"
   ]
  },
  {
   "cell_type": "code",
   "execution_count": 148,
   "metadata": {},
   "outputs": [
    {
     "data": {
      "text/plain": [
       "'<s> \"The legislation ... that Senator McCain supports would provide the authority for the federal government to surveille American citizens in their own country without any suspicion whatsoever that they\\'re engaging in discussions with terrorists or about criminal activity.\"</s><pad><pad><pad><pad><pad><pad><pad><pad><pad><pad><pad><pad><pad><pad><pad><pad><pad><pad><pad><pad><pad><pad><pad><pad><pad><pad><pad><pad><pad><pad><pad><pad><pad><pad><pad><pad><pad>'"
      ]
     },
     "execution_count": 148,
     "metadata": {},
     "output_type": "execute_result"
    }
   ],
   "source": [
    "tokenizer.convert_tokens_to_string(tokens)"
   ]
  }
 ],
 "metadata": {
  "kernelspec": {
   "display_name": "ML",
   "language": "python",
   "name": "ml"
  },
  "language_info": {
   "codemirror_mode": {
    "name": "ipython",
    "version": 3
   },
   "file_extension": ".py",
   "mimetype": "text/x-python",
   "name": "python",
   "nbconvert_exporter": "python",
   "pygments_lexer": "ipython3",
   "version": "3.11.2"
  }
 },
 "nbformat": 4,
 "nbformat_minor": 2
}
