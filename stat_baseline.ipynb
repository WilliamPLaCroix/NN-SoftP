{
 "cells": [
  {
   "cell_type": "code",
   "execution_count": 1,
   "metadata": {},
   "outputs": [
    {
     "name": "stderr",
     "output_type": "stream",
     "text": [
      "/home/wolfingten/.python_environments/ML/lib/python3.11/site-packages/torch/cuda/__init__.py:141: UserWarning: CUDA initialization: CUDA unknown error - this may be due to an incorrectly set up environment, e.g. changing env variable CUDA_VISIBLE_DEVICES after program start. Setting the available devices to be zero. (Triggered internally at ../c10/cuda/CUDAFunctions.cpp:108.)\n",
      "  return torch._C._cuda_getDeviceCount() > 0\n",
      "/home/wolfingten/.python_environments/ML/lib/python3.11/site-packages/tqdm/auto.py:21: TqdmWarning: IProgress not found. Please update jupyter and ipywidgets. See https://ipywidgets.readthedocs.io/en/stable/user_install.html\n",
      "  from .autonotebook import tqdm as notebook_tqdm\n",
      "/home/wolfingten/.python_environments/ML/lib/python3.11/site-packages/transformers/utils/generic.py:441: UserWarning: torch.utils._pytree._register_pytree_node is deprecated. Please use torch.utils._pytree.register_pytree_node instead.\n",
      "  _torch_pytree._register_pytree_node(\n"
     ]
    }
   ],
   "source": [
    "import os\n",
    "import wget\n",
    "\n",
    "import gensim.downloader as api\n",
    "from gensim.models import KeyedVectors\n",
    "import numpy as np\n",
    "import pandas as pd\n",
    "import string\n",
    "from sklearn import metrics\n",
    "from sklearn.feature_extraction.text import TfidfVectorizer\n",
    "from sklearn.naive_bayes import MultinomialNB\n",
    "from sklearn.ensemble import GradientBoostingClassifier\n",
    "import spacy\n",
    "from transformers import BertTokenizer\n",
    "from tqdm import tqdm"
   ]
  },
  {
   "cell_type": "code",
   "execution_count": 2,
   "metadata": {},
   "outputs": [],
   "source": [
    "# download dataset if not already downloaded\n",
    "liar_url = \"https://www.cs.ucsb.edu/~william/data/liar_dataset.zip\"\n",
    "if not os.path.exists(\"./data/\"):\n",
    "  os.mkdir(\"./data/\")\n",
    "if not os.path.exists(\"./data/liar_dataset.zip\"):\n",
    "  wget.download(liar_url, \"./data/liar_dataset.zip\")\n",
    "if not os.path.exists(\"./data/train.tsv\"):\n",
    "  !unzip ./data/liar_dataset.zip -d ./data/"
   ]
  },
  {
   "cell_type": "code",
   "execution_count": 3,
   "metadata": {},
   "outputs": [
    {
     "data": {
      "text/html": [
       "<div>\n",
       "<style scoped>\n",
       "    .dataframe tbody tr th:only-of-type {\n",
       "        vertical-align: middle;\n",
       "    }\n",
       "\n",
       "    .dataframe tbody tr th {\n",
       "        vertical-align: top;\n",
       "    }\n",
       "\n",
       "    .dataframe thead th {\n",
       "        text-align: right;\n",
       "    }\n",
       "</style>\n",
       "<table border=\"1\" class=\"dataframe\">\n",
       "  <thead>\n",
       "    <tr style=\"text-align: right;\">\n",
       "      <th></th>\n",
       "      <th>label</th>\n",
       "      <th>statement</th>\n",
       "      <th>tokens</th>\n",
       "      <th>target</th>\n",
       "    </tr>\n",
       "  </thead>\n",
       "  <tbody>\n",
       "    <tr>\n",
       "      <th>0</th>\n",
       "      <td>false</td>\n",
       "      <td>Says the Annies List political group supports ...</td>\n",
       "      <td>says annies list political group supports thir...</td>\n",
       "      <td>1</td>\n",
       "    </tr>\n",
       "    <tr>\n",
       "      <th>1</th>\n",
       "      <td>half-true</td>\n",
       "      <td>When did the decline of coal start? It started...</td>\n",
       "      <td>decline coal start started natural gas took st...</td>\n",
       "      <td>0</td>\n",
       "    </tr>\n",
       "    <tr>\n",
       "      <th>2</th>\n",
       "      <td>mostly-true</td>\n",
       "      <td>Hillary Clinton agrees with John McCain \"by vo...</td>\n",
       "      <td>hillary clinton agrees john mccain voting geor...</td>\n",
       "      <td>0</td>\n",
       "    </tr>\n",
       "    <tr>\n",
       "      <th>3</th>\n",
       "      <td>false</td>\n",
       "      <td>Health care reform legislation is likely to ma...</td>\n",
       "      <td>health care reform legislation likely mandate ...</td>\n",
       "      <td>1</td>\n",
       "    </tr>\n",
       "    <tr>\n",
       "      <th>4</th>\n",
       "      <td>half-true</td>\n",
       "      <td>The economic turnaround started at the end of ...</td>\n",
       "      <td>economic turnaround started end term</td>\n",
       "      <td>0</td>\n",
       "    </tr>\n",
       "  </tbody>\n",
       "</table>\n",
       "</div>"
      ],
      "text/plain": [
       "         label                                          statement  \\\n",
       "0        false  Says the Annies List political group supports ...   \n",
       "1    half-true  When did the decline of coal start? It started...   \n",
       "2  mostly-true  Hillary Clinton agrees with John McCain \"by vo...   \n",
       "3        false  Health care reform legislation is likely to ma...   \n",
       "4    half-true  The economic turnaround started at the end of ...   \n",
       "\n",
       "                                              tokens  target  \n",
       "0  says annies list political group supports thir...       1  \n",
       "1  decline coal start started natural gas took st...       0  \n",
       "2  hillary clinton agrees john mccain voting geor...       0  \n",
       "3  health care reform legislation likely mandate ...       1  \n",
       "4               economic turnaround started end term       0  "
      ]
     },
     "execution_count": 3,
     "metadata": {},
     "output_type": "execute_result"
    }
   ],
   "source": [
    "# data loading and preprocessing\n",
    "train_df = pd.read_csv(\"./data/train.tsv\", sep=\"\\t\", usecols=[1,2], names=[\"label\", \"statement\"])\n",
    "valid_df = pd.read_csv(\"./data/valid.tsv\", sep=\"\\t\", usecols=[1,2], names=[\"label\", \"statement\"])\n",
    "\n",
    "# some basic preprocessing using standard python and SpaCy\n",
    "def simple_preprocess_txt(texts: list, nlp: spacy.language):\n",
    "    \"\"\"\n",
    "    Applies the following transformations to strings:\n",
    "        - lower case\n",
    "        - remove punctuation\n",
    "        - tokenize\n",
    "        - remove stopwrods\n",
    "    \n",
    "    Output: list(str)\n",
    "    \"\"\"\n",
    "    out = list()\n",
    "    for txt in texts:\n",
    "        txt = txt.lower().strip()\n",
    "        txt = txt.translate(str.maketrans(\"\", \"\", string.punctuation))\n",
    "        txt = nlp(txt) # use SpaCy for tokenization\n",
    "        txt = [tok.text for tok in txt if not tok.is_stop] # for now only uses plain tokens, can later be changed to add pos or lemmas\n",
    "        out.append(\" \".join(txt))\n",
    "    return out\n",
    "\n",
    "\n",
    "nlp = spacy.load(\"en_core_web_sm\", enable=[\"tokenizer\"]) # load SpaCy pipeline\n",
    "\n",
    "# apply text preprocessing\n",
    "train_df[\"tokens\"] = simple_preprocess_txt(train_df[\"statement\"], nlp)\n",
    "valid_df[\"tokens\"] = simple_preprocess_txt(valid_df[\"statement\"], nlp)\n",
    "\n",
    "# convert labels to numerical values\n",
    "# change to binary classification, if desired\n",
    "label_dict = {\n",
    "    \"true\":0,\n",
    "    \"mostly-true\":0,\n",
    "    \"half-true\":0,\n",
    "    \"barely-true\":1,\n",
    "    \"false\":1,\n",
    "    \"pants-fire\":1\n",
    "    }\n",
    "\n",
    "train_df[\"target\"] = [label_dict[lab] for lab in train_df.label]\n",
    "valid_df[\"target\"] = [label_dict[lab] for lab in valid_df.label]\n",
    "\n",
    "train_df.head()"
   ]
  },
  {
   "cell_type": "code",
   "execution_count": 4,
   "metadata": {},
   "outputs": [
    {
     "data": {
      "text/plain": [
       "0.5713189352781258"
      ]
     },
     "execution_count": 4,
     "metadata": {},
     "output_type": "execute_result"
    }
   ],
   "source": [
    "# naive bayes classifier with sparse vector representation\n",
    "# vectorize input\n",
    "vectorizer = TfidfVectorizer()\n",
    "\n",
    "train_vecs = vectorizer.fit_transform(train_df[\"tokens\"])\n",
    "valid_vecs = vectorizer.transform(valid_df[\"tokens\"])\n",
    "\n",
    "# fit model\n",
    "multi_nb_clf = MultinomialNB(alpha=0.01)\n",
    "multi_nb_clf.fit(train_vecs, train_df[\"target\"])\n",
    "\n",
    "# evaluate\n",
    "pred = multi_nb_clf.predict(valid_vecs)\n",
    "metrics.f1_score(valid_df[\"target\"], pred, average=\"macro\")"
   ]
  },
  {
   "cell_type": "code",
   "execution_count": 5,
   "metadata": {},
   "outputs": [],
   "source": [
    "# alternative method using dense vectors\n",
    "glove_vecs = api.load(\"glove-wiki-gigaword-100\") # load global embeddings from glove; takes ~20s\n",
    "\n",
    "def embed_texts(texts: list, model):\n",
    "    \"\"\"\n",
    "    Returns sentence embeddings by looking up word embeddings for single words and averaging over them.\n",
    "\n",
    "    Output: list(array)\n",
    "    \"\"\"\n",
    "    embedded_texts = []\n",
    "    for text in texts:\n",
    "        word_embeddings = []\n",
    "        for token in text.split():\n",
    "            try:\n",
    "                # retrieve GloVe embedding for each token\n",
    "                embedding = model[token]\n",
    "                word_embeddings.append(embedding)\n",
    "            except KeyError:\n",
    "                # OOV words\n",
    "                pass\n",
    "        # aggregate word embeddings to get sentence embedding\n",
    "        if word_embeddings:\n",
    "            sentence_embedding = np.mean(word_embeddings, axis=0)  # using simple average over word embeddings\n",
    "            embedded_texts.append(sentence_embedding)\n",
    "        else:\n",
    "            # if no valid word embeddings found, append zeros\n",
    "            embedded_texts.append(np.zeros_like(model[\"the\"])) # use any word embedding just to get appropriate size\n",
    "    return embedded_texts\n",
    "\n",
    "# embed input data\n",
    "train_vecs = embed_texts(train_df[\"tokens\"].astype(str), glove_vecs)\n",
    "valid_vecs = embed_texts(valid_df[\"tokens\"].astype(str), glove_vecs)"
   ]
  },
  {
   "cell_type": "code",
   "execution_count": 6,
   "metadata": {},
   "outputs": [
    {
     "data": {
      "text/plain": [
       "0.5774449239795774"
      ]
     },
     "execution_count": 6,
     "metadata": {},
     "output_type": "execute_result"
    }
   ],
   "source": [
    "# fit classifier; takes ~35s\n",
    "gb_clf = GradientBoostingClassifier()\n",
    "gb_clf.fit(train_vecs, train_df[\"target\"])\n",
    "\n",
    "# evaluate\n",
    "pred = gb_clf.predict(valid_vecs)\n",
    "metrics.f1_score(valid_df[\"target\"], pred, average=\"macro\")"
   ]
  },
  {
   "cell_type": "code",
   "execution_count": 7,
   "metadata": {},
   "outputs": [
    {
     "name": "stderr",
     "output_type": "stream",
     "text": [
      "tokenizer_config.json: 100%|██████████| 48.0/48.0 [00:00<00:00, 78.7kB/s]\n"
     ]
    }
   ],
   "source": [
    "# attempt to load bert embeddings\n",
    "tokenizer = BertTokenizer.from_pretrained(\"bert-base-uncased\", do_lower_case=True)\n",
    "\n",
    "\n",
    "def encoder(sentences: list):\n",
    "    encoded_dict = tokenizer.batch_encode_plus(\n",
    "        sentences,\n",
    "        add_special_tokens=False,\n",
    "        return_tensors=\"np\",\n",
    "        max_length=712,\n",
    "        padding=\"max_length\",\n",
    "        truncation=False\n",
    "    )\n",
    "    return encoded_dict[\"input_ids\"]\n",
    "\n",
    "\n",
    "train_vecs = encoder(train_df.statement)\n",
    "valid_vecs = encoder(valid_df.statement)"
   ]
  }
 ],
 "metadata": {
  "kernelspec": {
   "display_name": "ML",
   "language": "python",
   "name": "python3"
  },
  "language_info": {
   "codemirror_mode": {
    "name": "ipython",
    "version": 3
   },
   "file_extension": ".py",
   "mimetype": "text/x-python",
   "name": "python",
   "nbconvert_exporter": "python",
   "pygments_lexer": "ipython3",
   "version": "3.11.2"
  }
 },
 "nbformat": 4,
 "nbformat_minor": 2
}
