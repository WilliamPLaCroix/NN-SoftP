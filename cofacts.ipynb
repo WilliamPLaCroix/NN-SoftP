{
 "cells": [
  {
   "cell_type": "code",
   "execution_count": 36,
   "metadata": {},
   "outputs": [],
   "source": [
    "import os\n",
    "\n",
    "from huggingface_hub import login\n",
    "from datasets import load_dataset\n",
    "import pandas as pd\n",
    "import matplotlib.pyplot as plt"
   ]
  },
  {
   "cell_type": "code",
   "execution_count": 9,
   "metadata": {},
   "outputs": [
    {
     "data": {
      "application/vnd.jupyter.widget-view+json": {
       "model_id": "8e5f2bce518846acb64ca28da85ffcfe",
       "version_major": 2,
       "version_minor": 0
      },
      "text/plain": [
       "VBox(children=(HTML(value='<center> <img\\nsrc=https://huggingface.co/front/assets/huggingface_logo-noborder.sv…"
      ]
     },
     "metadata": {},
     "output_type": "display_data"
    }
   ],
   "source": [
    "# authentication with huggingface\n",
    "# create token at https://huggingface.co/settings/tokens (create as read)\n",
    "# token should be stored locally, so technically login is only needed one time\n",
    "login()"
   ]
  },
  {
   "cell_type": "code",
   "execution_count": 20,
   "metadata": {},
   "outputs": [
    {
     "data": {
      "application/vnd.jupyter.widget-view+json": {
       "model_id": "1f9d3f03e30b452ab0dae644666972cb",
       "version_major": 2,
       "version_minor": 0
      },
      "text/plain": [
       "Downloading data:   0%|          | 0.00/3.61M [00:00<?, ?B/s]"
      ]
     },
     "metadata": {},
     "output_type": "display_data"
    },
    {
     "data": {
      "application/vnd.jupyter.widget-view+json": {
       "model_id": "9c82870b742843efb1ef7696c07e6e33",
       "version_major": 2,
       "version_minor": 0
      },
      "text/plain": [
       "Generating train split: 0 examples [00:00, ? examples/s]"
      ]
     },
     "metadata": {},
     "output_type": "display_data"
    }
   ],
   "source": [
    "# download specific dataset files; entire archive is only ~250 mb\n",
    "articles = load_dataset(\"Cofacts/line-msg-fact-check-tw\", \"articles\") # article contents and some meta info\n",
    "article_replies = load_dataset(\"Cofacts/line-msg-fact-check-tw\", \"article_replies\") # 'join table' for articles and replies with added meta info"
   ]
  },
  {
   "cell_type": "code",
   "execution_count": 21,
   "metadata": {},
   "outputs": [
    {
     "data": {
      "text/html": [
       "<div>\n",
       "<style scoped>\n",
       "    .dataframe tbody tr th:only-of-type {\n",
       "        vertical-align: middle;\n",
       "    }\n",
       "\n",
       "    .dataframe tbody tr th {\n",
       "        vertical-align: top;\n",
       "    }\n",
       "\n",
       "    .dataframe thead th {\n",
       "        text-align: right;\n",
       "    }\n",
       "</style>\n",
       "<table border=\"1\" class=\"dataframe\">\n",
       "  <thead>\n",
       "    <tr style=\"text-align: right;\">\n",
       "      <th></th>\n",
       "      <th>id</th>\n",
       "      <th>articleType</th>\n",
       "      <th>status_x</th>\n",
       "      <th>text</th>\n",
       "      <th>normalArticleReplyCount</th>\n",
       "      <th>createdAt_x</th>\n",
       "      <th>updatedAt_x</th>\n",
       "      <th>lastRequestedAt</th>\n",
       "      <th>userIdsha256_x</th>\n",
       "      <th>appId_x</th>\n",
       "      <th>references</th>\n",
       "      <th>articleId</th>\n",
       "      <th>replyId</th>\n",
       "      <th>userIdsha256_y</th>\n",
       "      <th>negativeFeedbackCount</th>\n",
       "      <th>positiveFeedbackCount</th>\n",
       "      <th>replyType</th>\n",
       "      <th>appId_y</th>\n",
       "      <th>status_y</th>\n",
       "      <th>createdAt_y</th>\n",
       "      <th>updatedAt_y</th>\n",
       "    </tr>\n",
       "  </thead>\n",
       "  <tbody>\n",
       "    <tr>\n",
       "      <th>0</th>\n",
       "      <td>14h550ymn3m3u</td>\n",
       "      <td>TEXT</td>\n",
       "      <td>NORMAL</td>\n",
       "      <td>BA.5病毒引發的不只「縮短潛伏期，增加R0值」，還有易使人「再感染（Reinfecion）...</td>\n",
       "      <td>1.0</td>\n",
       "      <td>2022-09-05T05:26:33.360Z</td>\n",
       "      <td>2022-09-05T05:26:33.360Z</td>\n",
       "      <td>2022-09-05T05:26:33.381Z</td>\n",
       "      <td>3753ca22ca96f5fc1f13e62291f28e405d56b1a976b21d...</td>\n",
       "      <td>RUMORS_LINE_BOT</td>\n",
       "      <td>LINE</td>\n",
       "      <td>14h550ymn3m3u</td>\n",
       "      <td>6oo8DYMBv5it-Cx_8405</td>\n",
       "      <td>6892d0026181e95d034bf8781025afbf395d57cc88ac05...</td>\n",
       "      <td>0.0</td>\n",
       "      <td>3.0</td>\n",
       "      <td>RUMOR</td>\n",
       "      <td>WEBSITE</td>\n",
       "      <td>NORMAL</td>\n",
       "      <td>2022-09-05T10:40:41.789Z</td>\n",
       "      <td>2022-09-05T10:40:41.789Z</td>\n",
       "    </tr>\n",
       "    <tr>\n",
       "      <th>1</th>\n",
       "      <td>326xjpkjbf01i</td>\n",
       "      <td>TEXT</td>\n",
       "      <td>NORMAL</td>\n",
       "      <td>https://youtu.be/xK9NzL3PkdE</td>\n",
       "      <td>0.0</td>\n",
       "      <td>2022-09-08T12:34:27.602Z</td>\n",
       "      <td>2022-09-08T12:34:27.602Z</td>\n",
       "      <td>2022-09-08T12:34:27.634Z</td>\n",
       "      <td>243b5897c14f02fb5b92a9e4f4cc39d5fb84ff16173add...</td>\n",
       "      <td>RUMORS_LINE_BOT</td>\n",
       "      <td>LINE</td>\n",
       "      <td>NaN</td>\n",
       "      <td>NaN</td>\n",
       "      <td>NaN</td>\n",
       "      <td>NaN</td>\n",
       "      <td>NaN</td>\n",
       "      <td>NaN</td>\n",
       "      <td>NaN</td>\n",
       "      <td>NaN</td>\n",
       "      <td>NaN</td>\n",
       "      <td>NaN</td>\n",
       "    </tr>\n",
       "    <tr>\n",
       "      <th>2</th>\n",
       "      <td>oupi0eu9aocr</td>\n",
       "      <td>TEXT</td>\n",
       "      <td>NORMAL</td>\n",
       "      <td>被取消的航班\\n\\n2018年的一天，我從洛杉磯回國，乘坐凌晨一點的國航航班，馬上要登機了，...</td>\n",
       "      <td>1.0</td>\n",
       "      <td>2021-11-13T16:36:56.548Z</td>\n",
       "      <td>2021-11-13T16:36:56.548Z</td>\n",
       "      <td>2022-04-27T08:52:17.115Z</td>\n",
       "      <td>4a266a6fdefc88e59eef644402e97c7f4c8196becca686...</td>\n",
       "      <td>RUMORS_LINE_BOT</td>\n",
       "      <td>LINE</td>\n",
       "      <td>oupi0eu9aocr</td>\n",
       "      <td>MYotCYMBv5it-Cx_gIpH</td>\n",
       "      <td>fc9652aa205dab75e19ecff420945e95aa3909a54b0d9a...</td>\n",
       "      <td>0.0</td>\n",
       "      <td>1.0</td>\n",
       "      <td>OPINIONATED</td>\n",
       "      <td>WEBSITE</td>\n",
       "      <td>NORMAL</td>\n",
       "      <td>2022-09-04T15:45:20.464Z</td>\n",
       "      <td>2022-09-04T15:45:20.464Z</td>\n",
       "    </tr>\n",
       "    <tr>\n",
       "      <th>3</th>\n",
       "      <td>my5ep5z69tql</td>\n",
       "      <td>TEXT</td>\n",
       "      <td>NORMAL</td>\n",
       "      <td>你好👱🏻‍♀️\\n\\n簡單跟你說一下公司工作內容：\\n我們是做購物系統訂單的工作，主要就是增...</td>\n",
       "      <td>1.0</td>\n",
       "      <td>2022-08-11T20:53:15.644Z</td>\n",
       "      <td>2022-08-11T20:53:15.644Z</td>\n",
       "      <td>2022-09-07T11:02:00.344Z</td>\n",
       "      <td>8a8a319bea0b3bff580d8507ae6470ba37e87791171886...</td>\n",
       "      <td>RUMORS_LINE_BOT</td>\n",
       "      <td>LINE</td>\n",
       "      <td>my5ep5z69tql</td>\n",
       "      <td>y22DlmsBFV14knB4ErTJ</td>\n",
       "      <td>d16417c7ce4ab67ac5a7901ce62621445db3e06da5da6f...</td>\n",
       "      <td>0.0</td>\n",
       "      <td>1.0</td>\n",
       "      <td>RUMOR</td>\n",
       "      <td>WEBSITE</td>\n",
       "      <td>NORMAL</td>\n",
       "      <td>2022-09-07T22:59:48.921Z</td>\n",
       "      <td>2022-09-07T22:59:48.921Z</td>\n",
       "    </tr>\n",
       "    <tr>\n",
       "      <th>4</th>\n",
       "      <td>3dnh713ikpf3c</td>\n",
       "      <td>TEXT</td>\n",
       "      <td>NORMAL</td>\n",
       "      <td>先和你簡單介紹\\n我們誠徵線上打工小幫手\\n工作內容有：聽寫打字、頁面排版、商品評論刷流量、...</td>\n",
       "      <td>1.0</td>\n",
       "      <td>2022-09-07T10:10:41.742Z</td>\n",
       "      <td>2022-09-07T10:10:41.742Z</td>\n",
       "      <td>2022-09-07T10:10:41.761Z</td>\n",
       "      <td>47e90b2538a5615b323f50571b77d91f7f105e55684aa1...</td>\n",
       "      <td>RUMORS_LINE_BOT</td>\n",
       "      <td>LINE</td>\n",
       "      <td>3dnh713ikpf3c</td>\n",
       "      <td>H8Hz4WsBqwaEkHKwtyFm</td>\n",
       "      <td>d16417c7ce4ab67ac5a7901ce62621445db3e06da5da6f...</td>\n",
       "      <td>0.0</td>\n",
       "      <td>1.0</td>\n",
       "      <td>RUMOR</td>\n",
       "      <td>WEBSITE</td>\n",
       "      <td>NORMAL</td>\n",
       "      <td>2022-09-07T23:00:19.207Z</td>\n",
       "      <td>2022-09-07T23:00:19.207Z</td>\n",
       "    </tr>\n",
       "  </tbody>\n",
       "</table>\n",
       "</div>"
      ],
      "text/plain": [
       "              id  ...               updatedAt_y\n",
       "0  14h550ymn3m3u  ...  2022-09-05T10:40:41.789Z\n",
       "1  326xjpkjbf01i  ...                       NaN\n",
       "2   oupi0eu9aocr  ...  2022-09-04T15:45:20.464Z\n",
       "3   my5ep5z69tql  ...  2022-09-07T22:59:48.921Z\n",
       "4  3dnh713ikpf3c  ...  2022-09-07T23:00:19.207Z\n",
       "\n",
       "[5 rows x 21 columns]"
      ]
     },
     "execution_count": 21,
     "metadata": {},
     "output_type": "execute_result"
    }
   ],
   "source": [
    "articles_replies_df = pd.merge(articles[\"train\"].to_pandas(), article_replies[\"train\"].to_pandas(), left_on=\"id\", right_on=\"articleId\", how=\"left\")\n",
    "articles_replies_df.head()\n",
    "# replyType is the label assigned to the article by the human editor"
   ]
  },
  {
   "cell_type": "code",
   "execution_count": 35,
   "metadata": {},
   "outputs": [
    {
     "data": {
      "text/plain": [
       "replyType\n",
       "RUMOR          47408\n",
       "NOT_RUMOR      16613\n",
       "NOT_ARTICLE    15430\n",
       "OPINIONATED    10955\n",
       "Name: count, dtype: int64"
      ]
     },
     "execution_count": 35,
     "metadata": {},
     "output_type": "execute_result"
    }
   ],
   "source": [
    "articles_replies_df[\"replyType\"].value_counts()"
   ]
  }
 ],
 "metadata": {
  "kernelspec": {
   "display_name": "ML",
   "language": "python",
   "name": "ml"
  },
  "language_info": {
   "codemirror_mode": {
    "name": "ipython",
    "version": 3
   },
   "file_extension": ".py",
   "mimetype": "text/x-python",
   "name": "python",
   "nbconvert_exporter": "python",
   "pygments_lexer": "ipython3",
   "version": "3.11.2"
  }
 },
 "nbformat": 4,
 "nbformat_minor": 2
}
