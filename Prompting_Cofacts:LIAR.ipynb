{
  "nbformat": 4,
  "nbformat_minor": 0,
  "metadata": {
    "colab": {
      "provenance": []
    },
    "kernelspec": {
      "name": "python3",
      "display_name": "Python 3"
    },
    "language_info": {
      "name": "python"
    }
  },
  "cells": [
    {
      "cell_type": "code",
      "source": [
        "import pandas as pd\n",
        "\n",
        "file_path = 'test_down_sampled.csv'\n",
        "data = pd.read_csv(file_path)\n",
        "\n",
        "\n",
        "data_cleaned = data.dropna(subset=['label'])\n",
        "example_news_texts = data_cleaned['text'].tolist()\n",
        "example_actual_labels = data_cleaned['label'].astype(int).tolist()\n",
        "data_cleaned.head()\n"
      ],
      "metadata": {
        "colab": {
          "base_uri": "https://localhost:8080/",
          "height": 206
        },
        "id": "IYEpYV0Ek-SZ",
        "outputId": "a1b1951d-1dcb-4c08-be7e-98be2ae16659"
      },
      "execution_count": 6,
      "outputs": [
        {
          "output_type": "execute_result",
          "data": {
            "text/plain": [
              "                                                text  label  \\\n",
              "0  克林頓在1999年中國使館被炸後令人震撼的秘密講話！\\n\\n環球觀察者 CCCPPR-Can...    1.0   \n",
              "1  動員五百人 小英養二十五個黑機關\\n身兼中華職棒聯盟會長的藍委吳志揚也認為，新政府宣示的發展...    1.0   \n",
              "2  趙曉慧：【#美國新任總統，#根本尚未出爐】\\n\\n台灣媒體幾乎一面倒，跟風美國左派媒體的假新...    1.0   \n",
              "3  (轉貼)轉載紀錄📝\\n\\n6/6高雄霸凌日，我不談投票，只想講一個真實故事：\\n .\\n 認...    1.0   \n",
              "4  省錢省電都是騙人。如果台灣核三核四的正常供電。電費可以充足有餘。全民的電費會更低更省錢。\\n...    1.0   \n",
              "\n",
              "                            sentiment  \n",
              "0  [0.49233323 0.25445962 0.25320718]  \n",
              "1  [0.10994015 0.22028746 0.66977233]  \n",
              "2  [0.15548167 0.16697745 0.6775409 ]  \n",
              "3  [0.21979059 0.35442767 0.4257817 ]  \n",
              "4  [0.31936854 0.22099052 0.45964095]  "
            ],
            "text/html": [
              "\n",
              "  <div id=\"df-a4398917-91e7-45cb-be0f-4b34caa4b723\" class=\"colab-df-container\">\n",
              "    <div>\n",
              "<style scoped>\n",
              "    .dataframe tbody tr th:only-of-type {\n",
              "        vertical-align: middle;\n",
              "    }\n",
              "\n",
              "    .dataframe tbody tr th {\n",
              "        vertical-align: top;\n",
              "    }\n",
              "\n",
              "    .dataframe thead th {\n",
              "        text-align: right;\n",
              "    }\n",
              "</style>\n",
              "<table border=\"1\" class=\"dataframe\">\n",
              "  <thead>\n",
              "    <tr style=\"text-align: right;\">\n",
              "      <th></th>\n",
              "      <th>text</th>\n",
              "      <th>label</th>\n",
              "      <th>sentiment</th>\n",
              "    </tr>\n",
              "  </thead>\n",
              "  <tbody>\n",
              "    <tr>\n",
              "      <th>0</th>\n",
              "      <td>克林頓在1999年中國使館被炸後令人震撼的秘密講話！\\n\\n環球觀察者 CCCPPR-Can...</td>\n",
              "      <td>1.0</td>\n",
              "      <td>[0.49233323 0.25445962 0.25320718]</td>\n",
              "    </tr>\n",
              "    <tr>\n",
              "      <th>1</th>\n",
              "      <td>動員五百人 小英養二十五個黑機關\\n身兼中華職棒聯盟會長的藍委吳志揚也認為，新政府宣示的發展...</td>\n",
              "      <td>1.0</td>\n",
              "      <td>[0.10994015 0.22028746 0.66977233]</td>\n",
              "    </tr>\n",
              "    <tr>\n",
              "      <th>2</th>\n",
              "      <td>趙曉慧：【#美國新任總統，#根本尚未出爐】\\n\\n台灣媒體幾乎一面倒，跟風美國左派媒體的假新...</td>\n",
              "      <td>1.0</td>\n",
              "      <td>[0.15548167 0.16697745 0.6775409 ]</td>\n",
              "    </tr>\n",
              "    <tr>\n",
              "      <th>3</th>\n",
              "      <td>(轉貼)轉載紀錄📝\\n\\n6/6高雄霸凌日，我不談投票，只想講一個真實故事：\\n .\\n 認...</td>\n",
              "      <td>1.0</td>\n",
              "      <td>[0.21979059 0.35442767 0.4257817 ]</td>\n",
              "    </tr>\n",
              "    <tr>\n",
              "      <th>4</th>\n",
              "      <td>省錢省電都是騙人。如果台灣核三核四的正常供電。電費可以充足有餘。全民的電費會更低更省錢。\\n...</td>\n",
              "      <td>1.0</td>\n",
              "      <td>[0.31936854 0.22099052 0.45964095]</td>\n",
              "    </tr>\n",
              "  </tbody>\n",
              "</table>\n",
              "</div>\n",
              "    <div class=\"colab-df-buttons\">\n",
              "\n",
              "  <div class=\"colab-df-container\">\n",
              "    <button class=\"colab-df-convert\" onclick=\"convertToInteractive('df-a4398917-91e7-45cb-be0f-4b34caa4b723')\"\n",
              "            title=\"Convert this dataframe to an interactive table.\"\n",
              "            style=\"display:none;\">\n",
              "\n",
              "  <svg xmlns=\"http://www.w3.org/2000/svg\" height=\"24px\" viewBox=\"0 -960 960 960\">\n",
              "    <path d=\"M120-120v-720h720v720H120Zm60-500h600v-160H180v160Zm220 220h160v-160H400v160Zm0 220h160v-160H400v160ZM180-400h160v-160H180v160Zm440 0h160v-160H620v160ZM180-180h160v-160H180v160Zm440 0h160v-160H620v160Z\"/>\n",
              "  </svg>\n",
              "    </button>\n",
              "\n",
              "  <style>\n",
              "    .colab-df-container {\n",
              "      display:flex;\n",
              "      gap: 12px;\n",
              "    }\n",
              "\n",
              "    .colab-df-convert {\n",
              "      background-color: #E8F0FE;\n",
              "      border: none;\n",
              "      border-radius: 50%;\n",
              "      cursor: pointer;\n",
              "      display: none;\n",
              "      fill: #1967D2;\n",
              "      height: 32px;\n",
              "      padding: 0 0 0 0;\n",
              "      width: 32px;\n",
              "    }\n",
              "\n",
              "    .colab-df-convert:hover {\n",
              "      background-color: #E2EBFA;\n",
              "      box-shadow: 0px 1px 2px rgba(60, 64, 67, 0.3), 0px 1px 3px 1px rgba(60, 64, 67, 0.15);\n",
              "      fill: #174EA6;\n",
              "    }\n",
              "\n",
              "    .colab-df-buttons div {\n",
              "      margin-bottom: 4px;\n",
              "    }\n",
              "\n",
              "    [theme=dark] .colab-df-convert {\n",
              "      background-color: #3B4455;\n",
              "      fill: #D2E3FC;\n",
              "    }\n",
              "\n",
              "    [theme=dark] .colab-df-convert:hover {\n",
              "      background-color: #434B5C;\n",
              "      box-shadow: 0px 1px 3px 1px rgba(0, 0, 0, 0.15);\n",
              "      filter: drop-shadow(0px 1px 2px rgba(0, 0, 0, 0.3));\n",
              "      fill: #FFFFFF;\n",
              "    }\n",
              "  </style>\n",
              "\n",
              "    <script>\n",
              "      const buttonEl =\n",
              "        document.querySelector('#df-a4398917-91e7-45cb-be0f-4b34caa4b723 button.colab-df-convert');\n",
              "      buttonEl.style.display =\n",
              "        google.colab.kernel.accessAllowed ? 'block' : 'none';\n",
              "\n",
              "      async function convertToInteractive(key) {\n",
              "        const element = document.querySelector('#df-a4398917-91e7-45cb-be0f-4b34caa4b723');\n",
              "        const dataTable =\n",
              "          await google.colab.kernel.invokeFunction('convertToInteractive',\n",
              "                                                    [key], {});\n",
              "        if (!dataTable) return;\n",
              "\n",
              "        const docLinkHtml = 'Like what you see? Visit the ' +\n",
              "          '<a target=\"_blank\" href=https://colab.research.google.com/notebooks/data_table.ipynb>data table notebook</a>'\n",
              "          + ' to learn more about interactive tables.';\n",
              "        element.innerHTML = '';\n",
              "        dataTable['output_type'] = 'display_data';\n",
              "        await google.colab.output.renderOutput(dataTable, element);\n",
              "        const docLink = document.createElement('div');\n",
              "        docLink.innerHTML = docLinkHtml;\n",
              "        element.appendChild(docLink);\n",
              "      }\n",
              "    </script>\n",
              "  </div>\n",
              "\n",
              "\n",
              "<div id=\"df-9ab7dc6a-4ca5-4405-a16f-5e9cf06ef146\">\n",
              "  <button class=\"colab-df-quickchart\" onclick=\"quickchart('df-9ab7dc6a-4ca5-4405-a16f-5e9cf06ef146')\"\n",
              "            title=\"Suggest charts\"\n",
              "            style=\"display:none;\">\n",
              "\n",
              "<svg xmlns=\"http://www.w3.org/2000/svg\" height=\"24px\"viewBox=\"0 0 24 24\"\n",
              "     width=\"24px\">\n",
              "    <g>\n",
              "        <path d=\"M19 3H5c-1.1 0-2 .9-2 2v14c0 1.1.9 2 2 2h14c1.1 0 2-.9 2-2V5c0-1.1-.9-2-2-2zM9 17H7v-7h2v7zm4 0h-2V7h2v10zm4 0h-2v-4h2v4z\"/>\n",
              "    </g>\n",
              "</svg>\n",
              "  </button>\n",
              "\n",
              "<style>\n",
              "  .colab-df-quickchart {\n",
              "      --bg-color: #E8F0FE;\n",
              "      --fill-color: #1967D2;\n",
              "      --hover-bg-color: #E2EBFA;\n",
              "      --hover-fill-color: #174EA6;\n",
              "      --disabled-fill-color: #AAA;\n",
              "      --disabled-bg-color: #DDD;\n",
              "  }\n",
              "\n",
              "  [theme=dark] .colab-df-quickchart {\n",
              "      --bg-color: #3B4455;\n",
              "      --fill-color: #D2E3FC;\n",
              "      --hover-bg-color: #434B5C;\n",
              "      --hover-fill-color: #FFFFFF;\n",
              "      --disabled-bg-color: #3B4455;\n",
              "      --disabled-fill-color: #666;\n",
              "  }\n",
              "\n",
              "  .colab-df-quickchart {\n",
              "    background-color: var(--bg-color);\n",
              "    border: none;\n",
              "    border-radius: 50%;\n",
              "    cursor: pointer;\n",
              "    display: none;\n",
              "    fill: var(--fill-color);\n",
              "    height: 32px;\n",
              "    padding: 0;\n",
              "    width: 32px;\n",
              "  }\n",
              "\n",
              "  .colab-df-quickchart:hover {\n",
              "    background-color: var(--hover-bg-color);\n",
              "    box-shadow: 0 1px 2px rgba(60, 64, 67, 0.3), 0 1px 3px 1px rgba(60, 64, 67, 0.15);\n",
              "    fill: var(--button-hover-fill-color);\n",
              "  }\n",
              "\n",
              "  .colab-df-quickchart-complete:disabled,\n",
              "  .colab-df-quickchart-complete:disabled:hover {\n",
              "    background-color: var(--disabled-bg-color);\n",
              "    fill: var(--disabled-fill-color);\n",
              "    box-shadow: none;\n",
              "  }\n",
              "\n",
              "  .colab-df-spinner {\n",
              "    border: 2px solid var(--fill-color);\n",
              "    border-color: transparent;\n",
              "    border-bottom-color: var(--fill-color);\n",
              "    animation:\n",
              "      spin 1s steps(1) infinite;\n",
              "  }\n",
              "\n",
              "  @keyframes spin {\n",
              "    0% {\n",
              "      border-color: transparent;\n",
              "      border-bottom-color: var(--fill-color);\n",
              "      border-left-color: var(--fill-color);\n",
              "    }\n",
              "    20% {\n",
              "      border-color: transparent;\n",
              "      border-left-color: var(--fill-color);\n",
              "      border-top-color: var(--fill-color);\n",
              "    }\n",
              "    30% {\n",
              "      border-color: transparent;\n",
              "      border-left-color: var(--fill-color);\n",
              "      border-top-color: var(--fill-color);\n",
              "      border-right-color: var(--fill-color);\n",
              "    }\n",
              "    40% {\n",
              "      border-color: transparent;\n",
              "      border-right-color: var(--fill-color);\n",
              "      border-top-color: var(--fill-color);\n",
              "    }\n",
              "    60% {\n",
              "      border-color: transparent;\n",
              "      border-right-color: var(--fill-color);\n",
              "    }\n",
              "    80% {\n",
              "      border-color: transparent;\n",
              "      border-right-color: var(--fill-color);\n",
              "      border-bottom-color: var(--fill-color);\n",
              "    }\n",
              "    90% {\n",
              "      border-color: transparent;\n",
              "      border-bottom-color: var(--fill-color);\n",
              "    }\n",
              "  }\n",
              "</style>\n",
              "\n",
              "  <script>\n",
              "    async function quickchart(key) {\n",
              "      const quickchartButtonEl =\n",
              "        document.querySelector('#' + key + ' button');\n",
              "      quickchartButtonEl.disabled = true;  // To prevent multiple clicks.\n",
              "      quickchartButtonEl.classList.add('colab-df-spinner');\n",
              "      try {\n",
              "        const charts = await google.colab.kernel.invokeFunction(\n",
              "            'suggestCharts', [key], {});\n",
              "      } catch (error) {\n",
              "        console.error('Error during call to suggestCharts:', error);\n",
              "      }\n",
              "      quickchartButtonEl.classList.remove('colab-df-spinner');\n",
              "      quickchartButtonEl.classList.add('colab-df-quickchart-complete');\n",
              "    }\n",
              "    (() => {\n",
              "      let quickchartButtonEl =\n",
              "        document.querySelector('#df-9ab7dc6a-4ca5-4405-a16f-5e9cf06ef146 button');\n",
              "      quickchartButtonEl.style.display =\n",
              "        google.colab.kernel.accessAllowed ? 'block' : 'none';\n",
              "    })();\n",
              "  </script>\n",
              "</div>\n",
              "    </div>\n",
              "  </div>\n"
            ],
            "application/vnd.google.colaboratory.intrinsic+json": {
              "type": "dataframe",
              "variable_name": "data_cleaned",
              "summary": "{\n  \"name\": \"data_cleaned\",\n  \"rows\": 212,\n  \"fields\": [\n    {\n      \"column\": \"text\",\n      \"properties\": {\n        \"dtype\": \"string\",\n        \"num_unique_values\": 207,\n        \"samples\": [\n          \"\\u4e00\\u500b\\u53f0\\u7063\\u5916\\u4ea4\\u5b98\\u7684\\u75db\\u5fc3\\u544a\\u767d\\n\\n\\u662f\\u8ab0\\u6bba\\u4e86\\u6211\\u5011\\u7684\\u5916\\u4ea4\\u5b98?\\n\\n\\u5916\\u4ea4\\u90e8\\u99d0\\u65e5\\u5927\\u962a\\u8fa6\\u4e8b\\u8655\\u8655\\u9577\\u8607\\u555f\\u8aa0\\u8f15\\u751f\\uff0c\\u8b93\\u6211\\u975e\\u5e38\\u75db\\u5fc3\\u96e3\\u904e\\u3002\\u6211\\u5011\\u540c\\u662f\\u5916\\u4ea4\\u5b98\\u524d\\u5f8c\\u671f\\u7684\\u5b78\\u54e1\\uff0c\\u8607\\u5b78\\u9577\\u8a8d\\u771f\\u8e0f\\u5be6\\uff0c\\u662f\\u500b\\u5178\\u578b\\u7684\\u5609\\u7fa9\\u5b69\\u5b50\\uff0c\\u8001\\u8001\\u5be6\\u5be6\\uff0c\\u5f9e\\u4e0d\\u5f35\\u72c2\\u3002\\u4e00\\u8def\\u5f9e\\u79d1\\u54e1\\u4e36\\u4e09\\u7b49\\u79d8\\u66f8\\u4e36\\u7d44\\u9577\\u505a\\u5230\\u6c96\\u7e69\\u8fa6\\u4e8b\\u8655\\u8655\\u9577\\uff0c\\u7136\\u5f8c\\u5728\\u5169\\u500b\\u6708\\u524d\\u5347\\u4efc\\u5927\\u962a\\u8fa6\\u4e8b\\u8655\\u8655\\u9577\\u3002\\n\\n\\u5230\\u5e95\\u662f\\u8ab0\\u6bba\\u4e86\\u4ed6\\uff1f\\u4e00\\u500b\\u672c\\u672c\\u4efd\\u5206\\u4e36\\u5162\\u5162\\u696d\\u696d\\uff0c\\u4e00\\u751f\\u70ba\\u53f0\\u7063\\u5916\\u4ea4\\u596e\\u9b25\\u7684\\u5c08\\u696d\\u5916\\u4ea4\\u5b98\\uff1f\\n\\n\\u6c11\\u9032\\u9ee8\\u4e0a\\u53f0\\u4ee5\\u5f8c\\uff0c\\u5927\\u5e45\\u64a4\\u63db\\u99d0\\u5916\\u4f7f\\u7bc0\\u4e2d\\u7684\\u8077\\u696d\\u5916\\u4ea4\\u5b98\\uff0c\\u6539\\u6d3e\\u6c11\\u9032\\u9ee8\\u7684\\u653f\\u6cbb\\u4eba\\u7269\\u6216\\u5176\\u5b50\\u5973\\u3002\\u9019\\u4e9b\\u653f\\u6cbb\\u4efb\\u547d\\u7684\\u5927\\u4f7f\\u4e36\\u4ee3\\u8868\\u4e36\\u516c\\u4f7f\\u4e36\\u526f\\u4ee3\\u8868\\uff0c\\u5168\\u90fd\\u5728\\u6d3e\\u99d0\\u5728\\u597d\\u5c71\\u597d\\u6c34\\u7684\\u57ce\\u5e02\\uff0c\\u5982\\u6771\\u4eac\\u4e36\\u5df4\\u9ece\\u4e36\\u67cf\\u6797\\u4e36\\u611b\\u723e\\u862d\\u4e36\\u745e\\u58eb\\u4e36\\u6cf0\\u570b\\u7b49\\u5730\\uff0c\\u6c92\\u6709\\u4e00\\u500b\\u6d3e\\u5f80\\u9808\\u8981\\u6253\\u4ed7\\u4e36\\u634d\\u885b\\u90a6\\u4ea4\\u4e36\\u751f\\u6d3b\\u8271\\u56f0\\u4e36\\u9808\\u8981\\u5fcd\\u53d7\\u7627\\u75be\\u9ec3\\u71b1\\u75c5\\u7684\\u975e\\u6d32\\u4e36\\u592a\\u5e73\\u6d0b\\u5c0f\\u5cf6\\u6216\\u52a0\\u52d2\\u6bd4\\u6d77\\u3002\\n\\n\\u9019\\u4e9b\\u653f\\u6cbb\\u4efb\\u547d\\u7684\\u99d0\\u5916\\u5927\\u4f7f\\u4e36\\u4ee3\\u8868\\uff0c\\u5728\\u9019\\u4e9b\\u8212\\u9069\\u7684\\u57ce\\u5e02\\u5403\\u9999\\u559d\\u8fa3\\uff0c\\u4f54\\u76e1\\u4fbf\\u5b9c\\uff0c\\u5750\\u4eab\\u516c\\u8cbb\\u652f\\u4ed8\\u7684\\u5b98\\u90b8\\u4e36\\u5c08\\u5c6c\\u8f4e\\u8eca\\u53f8\\u6a5f\\u548c\\u5e74\\u85aa\\u4e94\\u767e\\u842c\\u7684\\u4ff8\\u797f\\u3002\\u7531\\u65bc\\u9019\\u4e9b\\u653f\\u6cbb\\u4eba\\u7269\\u7684\\u751f\\u6daf\\u898f\\u5283\\u6839\\u672c\\u4e0d\\u5728\\u5916\\u4ea4\\u5de5\\u4f5c\\uff0c\\u800c\\u5728\\u65bc\\u570b\\u5167\\u7684\\u653f\\u6cbb\\u5347\\u9077\\uff0c\\u56e0\\u6b64\\u4ed6\\u5011\\u6700\\u5728\\u610f\\u7684\\u4e8b\\uff0c\\u4e0d\\u662f\\u628a\\u5c0d\\u5916\\u5de5\\u4f5c\\u505a\\u597d\\uff0c\\u800c\\u662f\\u597d\\u597d\\u63a5\\u5f85\\u4f86\\u81ea\\u570b\\u5167\\u7684\\u6c11\\u9032\\u9ee8\\u9ad8\\u5b98\\uff1b\\u4ed6\\u5011\\u6c72\\u6c72\\u71df\\u71df\\u7684\\uff0c\\u4e0d\\u662f\\u5982\\u4f55\\u5c0b\\u6c42\\u5916\\u4ea4\\u7a81\\u7834\\uff0c\\u800c\\u662f\\u5728\\u5916\\u570b\\u4eba\\u9762\\u524d\\u7c89\\u98fe\\u5ba3\\u63da\\u8521\\u653f\\u5e9c\\u7684\\u570b\\u5167\\u653f\\u7e3e\\u3002\\n\\n\\u56e0\\u6b64\\uff0c\\u4e00\\u65e6\\u9047\\u5230\\u56f0\\u96e3\\uff0c\\u9019\\u4e9b\\u5927\\u4f7f\\u4e36\\u516c\\u4f7f\\u4e36\\u4ee3\\u8868\\u4e36\\u526f\\u4ee3\\u8868\\u5c31\\u63a8\\u8ac9\\u8cac\\u4efb\\u7d66\\u6211\\u5011\\u9019\\u7fa4\\u8077\\u696d\\u5916\\u4ea4\\u5b98\\uff0c\\u8aaa\\u4ec0\\u9ebc\\u56e0\\u70ba\\u81ea\\u5df1\\u4e0d\\u662f\\u5916\\u4ea4\\u9ad4\\u7cfb\\u51fa\\u8eab\\uff0c\\u6240\\u4ee5\\u7121\\u6cd5\\u99d5\\u99ad\\u9019\\u4e9b\\u5916\\u4ea4\\u5b98\\u50da\\uff01\\u53c8\\u8aaa\\u6211\\u5011\\u4e45\\u99d0\\u570b\\u5916\\uff0c\\u5c0d\\u570b\\u5167\\u5be6\\u60c5\\u7f3a\\u4e4f\\u77ad\\u89e3\\uff01\\u6216\\u8af7\\u523a\\u6211\\u5011\\u53ea\\u6703\\u4f5c\\u5916\\u4ea4\\u5b98\\uff0c\\u4e0d\\u80fd\\u9ad4\\u6064\\u6c11\\u60c5\\u3002\\n\\n\\u7d50\\u679c\\uff0c\\u6211\\u5011\\u9019\\u7fa4\\u5c08\\u696d\\u5916\\u4ea4\\u5b98\\u5168\\u6210\\u4e86\\u66ff\\u9019\\u4e9b\\u653f\\u6cbb\\u4eba\\u7269\\u64e6\\u5c41\\u80a1\\u7684\\u4f63\\u4eba\\u548c\\u627f\\u53d7\\u570b\\u5167\\u8f3f\\u8ad6\\u6307\\u8cac\\u7684\\u4ee3\\u7f6a\\u7f94\\u7f8a\\u3002\\u6211\\u5011\\u53ea\\u662f\\u7fa4\\u8077\\u696d\\u5916\\u4ea4\\u5b98\\uff0c\\u4e0d\\u61c2\\u653f\\u6cbb\\u64cd\\u4f5c\\uff0c\\u4e5f\\u6c92\\u6709\\u570b\\u5167\\u653f\\u9ee8\\u548c\\u5a92\\u9ad4\\u7684\\u5967\\u63f4\\uff0c\\u66f4\\u6709\\u82e6\\u8aaa\\u4e0d\\u51fa\\uff0c\\u53ea\\u80fd\\u77aa\\u8457\\u773c\\u770b\\u8457\\u9019\\u7fa4\\u4e0d\\u6703\\u8fa6\\u5916\\u4ea4\\u7684\\u653f\\u6cbb\\u4eba\\u7269\\u5728\\u93e1\\u982d\\u9762\\u524d\\u8868\\u6f14\\u4f5c\\u79c0\\u4e36\\u63a8\\u5378\\u8cac\\u4efb\\u3002\\n\\n\\u4e00\\u4f4d\\u5927\\u4f7f\\u524d\\u8f29\\u5c31\\u8aaa\\uff1a\\u73fe\\u5728\\u4e0d\\u8981\\u53eb\\u5e74\\u8f15\\u4eba\\u8003\\u5916\\u4ea4\\u7279\\u8003\\u4e86\\uff0c\\u8003\\u5f97\\u518d\\u597d\\uff0c\\u9084\\u4e0d\\u5982\\u53bb\\u7576\\u6c11\\u9032\\u9ee8\\u52a9\\u7406\\uff0c\\u8ddf\\u5c0d\\u4eba\\uff0c\\u5e7e\\u5e74\\u5c31\\u53ef\\u4ee5\\u7576\\u5927\\u4f7f\\u3002\\n\\n\\u4f60\\u8aaa\\uff0c\\u662f\\u8ab0\\uff0c\\u6bba\\u4e86\\u6211\\u5011\\u7684\\u5916\\u4ea4\\u5b98\\uff1f\",\n          \"\\u674e\\u767b\\u8f1d\\u7684\\u8eab\\u4e16\\u63ed\\u66c9\\n\\u6731\\u9ad8\\u6b63\\u4ee5\\u524d\\u70ba\\u4ec0\\u9ebc\\u90fd\\u4e0d\\u5927\\u8072\\u7684\\u8aaa\\u51fa\\u4f86?\\u4ee5\\u81f4\\u8b93\\u570b\\u5bb6\\u793e\\u6703\\u65cf\\u7fa4\\u4e82\\u6210\\u9019\\u500b \\u6a23\\u5b50!_\\n\\n\\u6731\\u9ad8\\u6b63\\u7684\\u5148\\u7fc1\\u8207\\u674e\\u91d1\\u9f8d, \\u90fd\\u662f\\u65e5\\u64da\\u6642\\u671f\\u7684\\u8b66\\u8f14 (\\u53f0\\u7c4d\\u8b66\\u5bdf\\uff0c\\u65e5\\u672c\\u4eba\\u5247\\u88ab\\u7a31\\u8b66\\u4f50) ,\\u56e0\\u6b64\\u6731\\u9ad8\\u6b63\\u6700\\u6e05\\u695a\\u674e\\u767b\\u8f1d\\u7684\\u8eab\\u4e16~\\u674e\\u767b\\u8f1d\\u7684\\u8eab\\u4e16\\u63ed\\u66c9....\\n\\n \\n\\u672c\\u6587\\u8f49\\u8f09\\u81ea\\u200b  \\u6731\\u9ad8\\u6b63 \\u200b\\\"\\u5927\\u6771\\u4e9e\\u53cd\\u65e5\\u5171\\u5bb9\\u5708\\\"\\u6211\\u5bb6\\u662f\\u9053\\u5730\\u7684\\u53f0\\u7063\\u4eba\\u200b:\\n\\n\\u5bb6\\u7236\\u4ee5\\u524d\\u5373\\u8207\\u674e\\u767b\\u8f1d\\u70ba\\u820a\\u8b58\\uff0c\\u95dc\\u65bc\\u674e\\u767b\\u8f1d\\u7684\\u9ede\\u6ef4\\uff0c \\u5e38\\u662f\\u6211\\u5011\\u5bb6\\u4e2d\\u8336\\u9918\\u98ef\\u5f8c\\u7684\\u804a\\u5929\\u8a71\\u984c\\u3002\\n\\n\\u770b\\u5230\\u4eca\\u5929\\u7684\\u9078\\u8209\\u6587\\u5316\\uff0c\\u6bcf\\u5230\\u9078\\u8209\\u6642\\uff0c\\u7e3d\\u662f\\u6709\\u4e9b\\u5c45\\u5fc3\\u53f5\\u6e2c\\u7684\\u4eba\\uff0c \\u6311\\u8d77\\u7701\\u7c4d\\u60c5\\u7d50\\uff0c\\u6b32\\u9020\\u6210\\u65cf\\u7fa4\\u5c0d\\u7acb\\uff0c\\u4eca\\u65e5\\u5c31\\u674e\\u767b\\u8f1d\\u7684\\u5c0f\\u6a94\\u6848\\uff0c \\u5206\\u6790\\u7701\\u7c4d\\u91cd\\u4e0d\\u91cd\\u8981\\u3002\\n\\n\\u674e\\u767b\\u8f1d\\u65bc\\u6c11\\u570b12\\u5e741\\u6708\\u751f\\u65bc\\u53f0\\u5317\\u5e02\\uff0c\\u5176\\u751f\\u7236\\u70ba\\uff1a\\u7b71\\u539f\\u7b20\\u6b21\\u90ce\\uff0c \\u4fc2\\u65e5\\u672c\\u6d3e\\u99d0\\u53f0\\u5317\\u670d\\u52d9\\u4e4b\\u5211\\u8b66\\uff0c\\u751f\\u6bcd\\u70ba\\uff1a\\u6c5f\\u9326\\u6c0f\\uff0c\\u662f\\u53f0\\u7063\\u5973\\u5b50\\u3002\\n\\n\\u674e\\u767b\\u8f1d\\u662f\\u5176\\u6bcd\\u5728\\u7b71\\u539f\\u7b20\\u6b21\\u90ce\\u5bb6\\u4e2d\\u5e6b\\u50ad\\u6642, \\u6240\\u751f\\u4e0b\\u4e4b\\u79c1\\u751f\\u5b50\\u3002\\n\\n\\u674e\\u767b\\u8f1d\\u81ea\\u5c0f\\u9032\\u5165\\u6de1\\u6c34\\u4e2d\\u5b78\\u53ca\\u53f0\\u5317\\u9ad8\\u7b49\\u5b78\\u6821\\uff0c \\u7562\\u696d\\u5f8c\\u7531\\u5176\\u7236\\u5e36\\u56de\\u65e5\\u672c\\u9032\\u5165\\u5e1d\\u570b\\u5927\\u5b78\\u6df1\\u9020\\uff0c\\u81f3\\u6c11\\u570b34\\u5e74\\u56e0\\u65e5\\u672c\\u6295\\u964d \\uff0c\\u9042\\u8207\\u540c\\u5b78\\u5f6d\\u660e\\u654f\\u3001\\u8a31\\u9060\\u6771\\u7b49\\u591a\\u4eba\\u56de\\u53f0\\u3002\\n\\n\\u674e\\u767b\\u8f1d\\u56de\\u53f0\\u5f8c\\uff0c\\u8209\\u76ee\\u7121\\u89aa\\uff0c \\u60f3\\u627e\\u5c0b\\u8207\\u5176\\u7236\\u66fe\\u5728\\u53f0\\u5317\\u4e00\\u8d77\\u670d\\u52d9\\u4e4b\\u91d1\\u9f8d\\u4f2f\\u4f2f\\uff0c \\u7d93\\u591a\\u65b9\\u63a2\\u8a62\\u624d\\u7372\\u77e5\\u674e\\u91d1\\u9f8d\\u5df2\\u9000\\u4f11\\u56de\\u4e09\\u829d\\u9109\\u7f6e\\u7522\\u990a\\u8001\\uff0c \\u9042\\u524d\\u5f80\\u4e14\\u62dc\\u70ba\\u7fa9\\u7236\\uff0c\\u7531\\u539f\\u540d\\u5ca9\\u91cc\\u6b63\\u7537\\u6539\\u540d\\u70ba\\u674e\\u767b\\u8f1d\\u3002\\n\\n\\u6545\\u674e\\u7e3d\\u7d71\\u66fe\\u8207\\u5f88\\u591a\\u65e5\\u672c\\u8a2a\\u83ef\\u5718\\u5728\\u63a5\\u898b\\u6642\\u9084\\u7528\\u65e5\\u8a9e\\u5411\\u4ed6\\u5011\\u81ea\\u8a87\\u81ea\\u5df1\\u57282 2\\u6b72\\u4ee5\\u524d\\u9084\\u662f\\u771f\\u6b63\\u7684\\u65e5\\u672c\\u7687\\u6c11\\u8eab\\u4efd\\u5462\\uff01 \\u4e5f\\u6240\\u4ee5\\u6709\\u65e5\\u5f8c\\u9ad8\\u5531\\u91e3\\u9b5a\\u53f0\\u662f\\u65e5\\u672c\\u7684\\u53db\\u570b\\u4e4b\\u8abf\\u3002\\n\\n\\u5176\\u7fa9\\u7236\\u674e\\u91d1\\u9f8d\\u559c\\u6b61\\u559d\\u8336\\uff0c\\u5e38\\u8207\\u8001\\u670b\\u53cb\\u54c1\\u8317\\u804a\\u5929\\u6642\\uff0c\\u5076\\u723e\\u8aaa\\u51fa\\uff1a \\u963f\\u8f1d\\u8207\\u66fe\\u6587\\u60e0\\u7d50\\u5a5a\\u6642\\uff0c\\u8981\\u6211\\u4e0d\\u53ef\\u70ba\\u4ed6\\u4e3b\\u5a5a\\uff0c\\u56e0\\u5acc\\u6211\\u9577\\u5f97\\u592a\\u77ee\\uff0c \\u4e00\\u584a\\u7ad9\\u5728\\u53f0\\u4e0a\\u4e0d\\u7a31\\u914d\\uff0c\\u6709\\u5931\\u9762\\u5b50\\uff0c\\u70ba\\u6b64\\u6211\\u611f\\u5230\\u975e\\u5e38\\u907a\\u61be\\u3002\\n\\n\\u674e\\u767b\\u8f1d\\u78ba\\u65bc35\\u5e74\\u53c3\\u52a0\\u4e2d\\u5171\\u53f0\\u5927\\u8b80\\u66f8\\u6703\\uff0c36\\u5e74\\u7531\\u5433\\u514b\\u6cf0\\u4ecb\\u7d39\\u52a0\\u5165\\u4e2d \\u570b\\u5171\\u7522\\u9ee8\\uff0c\\u5f8c\\u4f86\\u5728\\u4e2d\\u5171\\u6307\\u6d3e\\u8b1d\\u96ea\\u7d05\\u9818\\u5c0e\\u7684\\u4e2d\\u570b\\u5171\\u7522\\u9ee8\\u53f0\\u7063\\u5de5\\u4f5c\\u59d4\\u54e1\\u6703 ( \\u5373\\u5171\\u7522\\u9ee8\\u5916\\u5718\\u7d44\\u7e54)\\u4e2d\\u4efb\\u66f8\\u8a18\\uff0c\\u65bc38\\u5e744\\u6708\\u88ab\\u53f0\\u7063\\u6cbb\\u5b89\\u55ae\\u4f4d\\u767c\\u89ba\\uff0c \\u7531\\u570b\\u5bb6\\u5b89\\u5168\\u5c40\\u6240\\u902e\\u6355\\uff0c \\u66fe\\u8207\\u7fc1\\u6587\\u7dad\\u540c\\u62bc\\u65bc\\u53f0\\u5317\\u5e02\\u897f\\u5be7\\u5357\\u8def\\u4fdd\\u5b89\\u53f8\\u4ee4\\u90e8\\u62d8\\u7559\\u6240\\uff0c\\u88ab\\u7a31\\u70ba\\u300e \\u53f0\\u5927\\u56db\\u516d\\u6848\\u300f\\u674e\\u767b\\u8f1d\\u7576\\u6642\\u88ab\\u56da\\u56db\\u500b\\u591a\\u6708\\uff0c\\u70ba\\u6c42\\u812b\\u8eab\\uff0c\\u4e0d\\u60dc\\u5beb\\u81ea\\u767d\\u66f8\\uff0c \\u4e26\\u5bc6\\u544a\\u540c\\u5b78\\u540c\\u5fd7\\u591a\\u4eba\\uff0c\\u81f4\\u6709\\u8521\\u677e\\u57ce\\u3001\\u5f35\\u58c1\\u5764\\u3001\\u80e1\\u6ec4\\u9716\\u3001\\u8cf4\\u6b63\\u4eae\\u3001 \\u5433\\u7389\\u6210\\u7b49\\u4e94\\u4f4d\\u540c\\u5b78\\u6158\\u906d\\u69cd\\u6583\\uff0c\\u4e26\\u6709\\u591a\\u4eba\\u5224\\u5211\\u3002\\n\\n\\u5f6d\\u660e\\u654f\\u3001\\u8a31\\u9060\\u6771\\u7b49\\u5247\\u805e\\u98a8\\u800c\\u6f5b\\u9003\\u81f3\\u6d77\\u5916\\uff0c\\u5016\\u514d\\u65bc\\u96e3\\uff0c \\u674e\\u767b\\u8f1d\\u56e0\\u5bc6\\u544a\\u7834\\u6848\\u6709\\u529f\\uff0c\\u7279\\u51c6\\u7531\\u884c\\u653f\\u9662\\u526f\\u9662\\u9577\\u5f90\\u6176\\u9418\\u4fdd\\u91cb\\u4ea4\\u7531\\u8523\\u5f65! \\u58eb(\\u8fb2\\u5fa9\\u6703\\u4e3b\\u59d4)\\u5b89\\u7f6e\\u8fb2\\u5fa9\\u6703\\u5de5\\u4f5c\\uff0c\\u5148\\u7531\\u6280\\u8853\\u58eb\\u518d\\u5347\\u7d44\\u9577\\uff0c \\u5728\\u53f0\\u5927\\u4efb\\u526f\\u6559\\u6388\\u6642\\u624d\\u8fa6\\u81ea\\u65b0\\uff0c\\u7576\\u6642\\u570b\\u5b89\\u5c40\\u9577\\u5468\\u4e2d\\u92d2\\u66fe\\u5c0d\\u674e\\u767b\\u8f1d\\u8aaa\\u300e \\u4f60\\u4ee5\\u5f8c\\u53ef\\u4ee5\\u7576\\u6559\\u6388\\uff0c\\u4f46\\u4e0d\\u53ef\\u4ee5\\u7576\\u516c\\u52d9\\u54e1\\u300f \\u771f\\u5922\\u60f3\\u4e0d\\u5230\\u5f8c\\u4f86\\u9084\\u7576\\u4e0a\\u570b\\u5bb6\\u5143\\u9996\\u4e86\\u3002\\n\\n\\u5728\\u8523\\u7d93\\u570b\\u901d\\u4e16\\uff0c\\u674e\\u767b\\u8f1d\\u4ee3\\u7406\\u7e3d\\u7d71\\uff0c \\u4fbf\\u547d\\u4e00\\u540c\\u5750\\u7262\\u96e3\\u53cb\\u7fc1\\u6587\\u7dad\\u70ba\\u8abf\\u67e5\\u5c40\\u9577\\uff0c \\u5f97\\u5c07\\u4ee5\\u524d\\u6240\\u6709\\u4e0d\\u6cd5\\u6848\\u4ef6\\u8cc7\\u6599\\u5fb9\\u5e95\\u5168\\u90e8\\u92b7\\u6bc0\\u3002\\n\\n\\u5728\\u4ee5\\u5f8c\\u4e4b\\u9ee8\\u653f\\u5927\\u6b0a\\u638c\\u63e1\\u4e0b\\uff0c\\u958b\\u59cb\\u7368\\u88c1\\uff0c\\u4e0d\\u807d\\u8aeb\\u8a00\\uff0c\\u4e00\\u610f\\u5b64\\u884c\\uff0c \\u5438\\u6536\\u91d1\\u725b\\uff0c\\u639b\\u9264\\u9ed1\\u9053\\uff0c\\u6392\\u64e0\\u5fe0\\u826f\\uff0c\\u6253\\u58d3\\u7570\\u5df1\\uff0c \\u91cd\\u8981\\u7f6a\\u884c\\u662f\\u4ee5\\u4e00\\u5df1\\u4e4b\\u79c1\\uff0c\\u4e82\\u6539\\u61b2\\u6cd5\\uff0c\\u4ee5\\u5916\\u4f86\\u653f! \\u5ba2\\u88fd\\u9020\\u7701\\u7c4d\\u60c5\\u7d50\\uff0c\\u5ee2\\u9664\\u4e09\\u6c11\\u4e3b\\u7fa9\\u8ab2\\u7a0b\\uff0c\\u8207\\u6c11\\u9032\\u9ee8\\u53f0\\u7368\\u76f8\\u547c\\u61c9\\uff0c \\u4f7f\\u9ee8\\u5167\\u7cbe\\u82f1\\u76f8\\u7e7c\\u51fa\\ufffd! \\u54c4A\\u53c8\\u4ee5\\u7e3d\\u7d71\\u4e4b\\u8eab\\uff0c\\u8981\\u6c42\\u5ee2\\u7701\\u3001\\u51cd\\u7701\\uff0c\\u4ee5\\u9042\\u5176\\u65e9\\u65e5\\u5b8c\\u6210\\u53f0\\u7368\\u5fc3\\u9858\\uff0c \\u518d\\u4ee5\\u4fee\\u61b2\\u589e\\u6b0a\\uff0c\\u4ee5\\u978f\\u56fa\\u5176\\u5c08\\u6a6b\\u4e4b\\u653f\\u6b0a\\u3002\\n\\n\\u4efb\\u6eff\\u5f8c\\u4e4b\\u7e3d\\u7d71\\u5927\\u9078\\uff0c\\u66f4\\u6392\\u9664\\u7570\\u5df1\\uff0c \\u7f54\\u9867\\u9ee8\\u5167\\u8072\\u97f3\\u800c\\u63d0\\u540d\\u9023\\u6230\\u7af6\\u9078\\u7e3d\\u7d71\\uff0c\\u4ecd\\u4e00\\u5fc3\\u60f3 \\u7576\\u4e0a\\u300e\\u592a\\u4e0a\\u7687\\u300f\\u3001\\u53ca\\u7a69\\u5750\\u570b\\u6c11\\u9ee8\\u4e3b\\u5e2d\\u7684\\u4f4d\\u5b50\\uff0c\\u5509\\uff01 \\u771f\\u662f\\u6b0a\\u5229\\u8150\\u8755\\u4eba\\u5fc3\\uff01\\n\\n\\u8d70\\u7b46\\u81f3\\u6b64\\uff0c\\u60f3\\u60f3\\u4e00\\u500b\\u65e5\\u672c\\u4eba\\u7684\\u79c1\\u751f\\u5152\\u5b50\\uff0c\\u90fd\\u53ef\\u7576\\u4e0a\\u53f0\\u7063\\u7684\\u7e3d\\u7d71\\uff0c \\u7d71\\u6cbb\\u53f0\\u7063\\u905413\\u5e74\\u4e4b\\u4e45\\uff0c\\u800c\\u4e14\\u53c8\\u523b\\u610f\\u683d\\u57f9\\u9673\\u6c34\\u6241\\u7b49\\u4eba\\uff0c \\u6316\\u7a7a\\u570b\\u6c11\\u9ee8\\u8ca1\\u52d9,\\u8ab0\\u9084\\u6703\\u5728\\u610f\\u7701\\u7c4d\\u4e0d\\u7701\\u7c4d\\uff1f\",\n          \"\\u8f49\\u767c\\uff1a\\u4ec0\\u9ebc\\u662f\\u53cd\\u9003\\u72af\\u689d\\u4f8b                                                                              \\n\\n\\u7b2c\\u4e00\\uff0c\\u9003\\u72af\\u689d\\u4f8b\\u672c\\u4f86\\u5728\\u9999\\u6e2f\\u56de\\u6b78\\u4e4b\\u524d\\u5c31\\u6709\\uff0c\\u9019\\u6b21\\u53ea\\u662f\\u589e\\u4fee\\u3002\\n\\n\\u56e0\\u70ba\\u4e4b\\u524d\\u9019\\u689d\\u689d\\u4f8b\\u9999\\u6e2f\\u53ea\\u820720\\u500b\\u53f8\\u6cd5\\u7ba1\\u8f44\\u5340\\u7c3d\\u6709\\u79fb\\u4ea4\\u9003\\u72af\\u7684\\u5f15\\u6e21\\u689d\\u7d04\\uff0c\\u537b\\u4e0d\\u5305\\u62ec\\u4e2d\\u570b\\u5927\\u9678\\u3001\\u6fb3\\u9580\\u548c\\u53f0\\u7063\\uff0c\\u9019\\u6b21\\u662f\\u628a\\u4e2d\\u570b\\u5927\\u9678\\u3001\\u6fb3\\u9580\\u548c\\u53f0\\u7063\\u52a0\\u9032\\u53bb\\u3002\\n\\n\\u7b2c\\u4e8c\\uff0c\\u589e\\u4fee\\u689d\\u4f8b\\u8349\\u6848\\u660e\\u78ba\\u898f\\u5b9a\\u53ea\\u9069\\u7528\\u65bc\\u79fb\\u4ea4\\u5fc5\\u9808\\u662f37\\u7a2e\\u570b\\u969b\\u516c\\u8a8d\\u5211\\u4e8b\\u72af\\u7f6a\\uff0c\\u4e14\\u5211\\u671f\\u90fd\\u57287\\u5e74\\u6216\\u4ee5\\u4e0a\\u7684\\u7f6a\\u72af\\u3002\\n\\n\\u7b2c\\u4e09\\uff0c\\u5fc5\\u9808\\u8981\\u7279\\u5340\\u6cd5\\u9662\\u548c\\u7279\\u9996\\u96d9\\u6279\\u51c6\\u624d\\u80fd\\u5be6\\u65bd\\u79fb\\u4ea4\\u3002\\n\\n\\u7b2c\\u56db\\uff0c\\u589e\\u4fee\\u689d\\u4f8b\\u8349\\u6848\\u660e\\u78ba\\u898f\\u5b9a\\u300c\\u516b\\u4e0d\\u79fb\\u4ea4\\u300d\\uff0c\\u660e\\u78ba\\u8aaa\\u660e\\u79fb\\u52d5\\u7684\\u7f6a\\u72af\\u4e0d\\u6d89\\u53ca\\u8207\\u8a00\\u8ad6\\u76f8\\u95dc\\u7684\\u884c\\u70ba\\uff0c\\u5373\\u4e0d\\u6d89\\u53ca\\u65b0\\u805e\\u3001\\u8a00\\u8ad6\\u3001\\u5b78\\u8853\\u3001\\u51fa\\u7248\\u7b49\\u65b9\\u9762\\u884c\\u70ba\\u3002\\n\\n\\u7b2c\\u4e94\\uff0c\\u4fc3\\u6210\\u9019\\u6b21\\u589e\\u4fee\\u689d\\u4f8b\\u8349\\u6848\\u7684\\u539f\\u56e0\\u4e4b\\u4e00\\u662f\\u9999\\u6e2f\\u4eba\\u9673\\u540c\\u4f73\\u5728\\u53f0\\u7063\\u6bba\\u5bb3\\u5973\\u53cb\\u6f58\\u66c9\\u7a4e\\uff0c\\u537b\\u7531\\u65bc\\u53f0\\u7063\\u4e0d\\u5728\\u9003\\u72af\\u689d\\u4f8b\\u7bc4\\u7587\\u5167\\u7121\\u6cd5\\u5f15\\u6e21\\u56de\\u5be9\\u3002\\n                                                                                    \\uff0a\\u90e8\\u5206\\u9999\\u6e2f\\u4eba\\u5728\\u3010\\u53cd\\u5c0d\\u3011\\u7684\\u300c\\u9001\\u4e2d\\u689d\\u4f8b\\u300d\\u662f\\u751a\\u9ebc\\uff1f\\n\\n\\u8b1b\\u767d\\u4e86\\u5c31\\u662f\\uff1a\\n\\u73fe\\u5728\\u9999\\u6e2f\\u4eba\\uff0c\\u5728\\u4e2d\\u570b\\u5927\\u9678\\u3001\\u53f0\\u7063\\u3001\\u6fb3\\u9580\\u72af\\u7f6a\\n\\u53ea\\u8981\\u9003\\u56de\\u9999\\u6e2f\\uff0c\\u4e0d\\u4f46\\u4e0d\\u5fc5\\u9063\\u9001 \\u9678\\u3001\\u53f0\\u3001\\u6fb3 \\u53d7\\u5be9\\uff0c\\n\\u9023\\u5728\\u9999\\u6e2f\\u90fd\\u4e0d\\u80fd\\u5be9\\u5224(\\u56e0\\u70ba\\u5728\\u7576\\u5730\\u6c92\\u72af\\u7f6a)\\n\\n\\uff0a\\u6709\\u8da3\\u7684\\u662f\\uff1a\\n\\u9999\\u6e2f\\u4eba\\u5728\\u99ac\\u4f86\\u897f\\u4e9e\\u3001\\u65b0\\u52a0\\u5761\\u7b49\\u82f1\\u570b\\u524d\\u6b96\\u6c11\\u5730\\u5340\\n\\u6216\\u82f1\\u570b\\u672c\\u571f\\u72af\\u7f6a\\uff0c\\u537b\\u8981\\u9063\\u9001\\u53bb\\u7576\\u5730\\u53d7\\u5be9\\u3002\\n\\n\\uff0a\\u53f0\\u7063\\u65e9\\u5c31\\u6709\\u300c\\u9001\\u4e2d\\u689d\\u4f8b\\u300d\\uff0c\\u5168\\u540d\\u53eb\\u505a\\uff1a\\n\\u3010\\u300c\\u6d77\\u5cfd\\u5169\\u5cb8\\u5171\\u540c\\u6253\\u64ca\\u72af\\u7f6a\\u53ca\\u53f8\\u6cd5\\u4e92\\u52a9\\u5354\\u8b70\\u300d\\u3011\\n\\n2009\\u5e74\\u7c3d\\u8a02\\u81f3\\u4eca\\u5df2\\u5341\\u5e74\\u3002\"\n        ],\n        \"semantic_type\": \"\",\n        \"description\": \"\"\n      }\n    },\n    {\n      \"column\": \"label\",\n      \"properties\": {\n        \"dtype\": \"number\",\n        \"std\": 0.5011834336081179,\n        \"min\": 0.0,\n        \"max\": 1.0,\n        \"num_unique_values\": 2,\n        \"samples\": [\n          0.0,\n          1.0\n        ],\n        \"semantic_type\": \"\",\n        \"description\": \"\"\n      }\n    },\n    {\n      \"column\": \"sentiment\",\n      \"properties\": {\n        \"dtype\": \"string\",\n        \"num_unique_values\": 207,\n        \"samples\": [\n          \"[0.38212025 0.20214006 0.41573972]\",\n          \"[0.68391967 0.17419924 0.14188112]\"\n        ],\n        \"semantic_type\": \"\",\n        \"description\": \"\"\n      }\n    }\n  ]\n}"
            }
          },
          "metadata": {},
          "execution_count": 6
        }
      ]
    },
    {
      "cell_type": "code",
      "source": [
        "!pip install openai==0.28"
      ],
      "metadata": {
        "colab": {
          "base_uri": "https://localhost:8080/"
        },
        "id": "aaqzm2SKhIeD",
        "outputId": "9da7b1ac-86c7-4db3-8a5b-8721acdff8f8"
      },
      "execution_count": 2,
      "outputs": [
        {
          "output_type": "stream",
          "name": "stdout",
          "text": [
            "Collecting openai==0.28\n",
            "  Downloading openai-0.28.0-py3-none-any.whl (76 kB)\n",
            "\u001b[?25l     \u001b[90m━━━━━━━━━━━━━━━━━━━━━━━━━━━━━━━━━━━━━━━━\u001b[0m \u001b[32m0.0/76.5 kB\u001b[0m \u001b[31m?\u001b[0m eta \u001b[36m-:--:--\u001b[0m\r\u001b[2K     \u001b[90m━━━━━━━━━━━━━━━━━━━━━━━━━━━━━━━━━━━━━━━━\u001b[0m \u001b[32m76.5/76.5 kB\u001b[0m \u001b[31m2.1 MB/s\u001b[0m eta \u001b[36m0:00:00\u001b[0m\n",
            "\u001b[?25hRequirement already satisfied: requests>=2.20 in /usr/local/lib/python3.10/dist-packages (from openai==0.28) (2.31.0)\n",
            "Requirement already satisfied: tqdm in /usr/local/lib/python3.10/dist-packages (from openai==0.28) (4.66.2)\n",
            "Requirement already satisfied: aiohttp in /usr/local/lib/python3.10/dist-packages (from openai==0.28) (3.9.3)\n",
            "Requirement already satisfied: charset-normalizer<4,>=2 in /usr/local/lib/python3.10/dist-packages (from requests>=2.20->openai==0.28) (3.3.2)\n",
            "Requirement already satisfied: idna<4,>=2.5 in /usr/local/lib/python3.10/dist-packages (from requests>=2.20->openai==0.28) (3.6)\n",
            "Requirement already satisfied: urllib3<3,>=1.21.1 in /usr/local/lib/python3.10/dist-packages (from requests>=2.20->openai==0.28) (2.0.7)\n",
            "Requirement already satisfied: certifi>=2017.4.17 in /usr/local/lib/python3.10/dist-packages (from requests>=2.20->openai==0.28) (2024.2.2)\n",
            "Requirement already satisfied: aiosignal>=1.1.2 in /usr/local/lib/python3.10/dist-packages (from aiohttp->openai==0.28) (1.3.1)\n",
            "Requirement already satisfied: attrs>=17.3.0 in /usr/local/lib/python3.10/dist-packages (from aiohttp->openai==0.28) (23.2.0)\n",
            "Requirement already satisfied: frozenlist>=1.1.1 in /usr/local/lib/python3.10/dist-packages (from aiohttp->openai==0.28) (1.4.1)\n",
            "Requirement already satisfied: multidict<7.0,>=4.5 in /usr/local/lib/python3.10/dist-packages (from aiohttp->openai==0.28) (6.0.5)\n",
            "Requirement already satisfied: yarl<2.0,>=1.0 in /usr/local/lib/python3.10/dist-packages (from aiohttp->openai==0.28) (1.9.4)\n",
            "Requirement already satisfied: async-timeout<5.0,>=4.0 in /usr/local/lib/python3.10/dist-packages (from aiohttp->openai==0.28) (4.0.3)\n",
            "Installing collected packages: openai\n",
            "Successfully installed openai-0.28.0\n"
          ]
        }
      ]
    },
    {
      "cell_type": "code",
      "source": [
        "import requests\n",
        "import time\n",
        "import openai\n",
        "import matplotlib.pyplot as plt\n",
        "from tqdm import tqdm\n",
        "import numpy as np\n",
        "from typing import List"
      ],
      "metadata": {
        "id": "MSChCBOthFO-"
      },
      "execution_count": 9,
      "outputs": []
    },
    {
      "cell_type": "code",
      "execution_count": 4,
      "metadata": {
        "id": "XqG6H0bMK7CU"
      },
      "outputs": [],
      "source": [
        "def query_gpt4(prompt):\n",
        "    try:\n",
        "        response = openai.ChatCompletion.create(\n",
        "            model=\"gpt-4-0125-preview\",\n",
        "            messages=[{\"role\": \"system\", \"content\": \"You are a helpful fake news detection assistant.\"}, # a context-setting mechanism for GPT-4\n",
        "                      {\"role\": \"user\", \"content\": prompt}]\n",
        "        )\n",
        "        return response.choices[0].message['content']\n",
        "    except Exception as e:\n",
        "        print(\"Error querying OpenAI API:\", e)\n",
        "        return None"
      ]
    },
    {
      "cell_type": "code",
      "source": [
        "openai.api_key = \"my_openai_api_key\""
      ],
      "metadata": {
        "id": "pGFLb7fqhOiF"
      },
      "execution_count": 7,
      "outputs": []
    },
    {
      "cell_type": "code",
      "source": [
        "def gpt4_prompt_fake_news_detection(news_text: str) -> int:\n",
        "    \"\"\"\n",
        "    Constructs a prompt for GPT-4 to classify the news as fake or true and uses GPT-4 response.\n",
        "\n",
        "    Args:\n",
        "        news_text (str): The news text to classify.\n",
        "\n",
        "    Returns:\n",
        "        int: 1 if the news is predicted to be fake, 0 if the news is predicted to be true.\n",
        "    \"\"\"\n",
        "\n",
        "    prompt = (\n",
        "        f\"請根據以下新聞內容判斷新聞的真偽，並僅以數字0與1作答。回答1代表「假新聞」，0代表「真新聞」。新聞內容：\\\"{news_text}\\\"\"\n",
        "    )\n",
        "\n",
        "    response_content = query_gpt4(prompt)\n",
        "\n",
        "    try:\n",
        "        prediction = int(response_content.strip())\n",
        "    except ValueError:\n",
        "        print(\"Received an invalid response from GPT-4:\", response_content)\n",
        "        prediction = None\n",
        "\n",
        "    return prediction"
      ],
      "metadata": {
        "id": "KMGZRJvnmblr"
      },
      "execution_count": 11,
      "outputs": []
    },
    {
      "cell_type": "markdown",
      "source": [
        "**Test**"
      ],
      "metadata": {
        "id": "BZyPLKwfs6hQ"
      }
    },
    {
      "cell_type": "code",
      "source": [
        "first_news_text = data_cleaned['text'].iloc[0]\n",
        "\n",
        "prompt = (\n",
        "    f\"請根據以下新聞內容判斷新聞的真偽，並僅以數字0與1作答。回答1代表「假新聞」，0代表「真新聞」。新聞內容：\\\"{first_news_text}\\\"\"\n",
        ")\n",
        "\n",
        "response_content = query_gpt4(prompt)\n",
        "\n",
        "try:\n",
        "    prediction = int(response_content.strip())\n",
        "    print(f\"Prompt:\\n{prompt}\\n\")\n",
        "    print(f\"GPT-4's Response: {response_content}\")\n",
        "    print(f\"Interpreted Prediction: {'Fake News (1)' if prediction == 1 else 'True News (0)'}\")\n",
        "except ValueError:\n",
        "    print(\"Received an invalid response from GPT-4:\", response_content)"
      ],
      "metadata": {
        "colab": {
          "base_uri": "https://localhost:8080/"
        },
        "id": "aAo86CSMoRZ0",
        "outputId": "5dec647b-1dc7-4801-834c-d8f90552a312"
      },
      "execution_count": 8,
      "outputs": [
        {
          "output_type": "stream",
          "name": "stdout",
          "text": [
            "Prompt:\n",
            "請根據以下新聞內容判斷新聞的真偽，並僅以數字0與1作答。回答1代表「假新聞」，0代表「真新聞」。新聞內容：\"克林頓在1999年中國使館被炸後令人震撼的秘密講話！\n",
            "\n",
            "環球觀察者 CCCPPR-Canada-China 2019-06-30 \n",
            "克林頓在1999年中國使館被炸後的秘密講話！震撼囯人！\n",
            "\n",
            "克林頓在99年中國使館被炸後的秘密講話曝光！\n",
            "\n",
            "1999年5月13日，在5枚導彈轟炸中國駐南斯拉夫大使館後，由於美國國會的議員們強烈要求說明真相，克林頓總統來到國會發表了秘密講話。\n",
            "\n",
            "「首先，我必須申明，我的以下講話，將涉及我們國家的最高利益，當然也是最高機密。雖然在這個星球上，我們不用怕誰，但是，在當前這個階段我們也不想製造任何不必要的麻煩。」\n",
            "\n",
            "「眾所周知，冷戰結束以來，就美國的綜合國力而言，我們在全球不僅沒有對手，而且完全有能力控制全球。」\n",
            "\n",
            "「我所要描述的新戰略的目標將是從現在起，美國將成為人類的最後唯一的帝國。」\n",
            "\n",
            "「我們制定了詳細的目標：第一步：北約東擴。諸位已經看到，在科索沃戰事上，原來我們還對他(俄羅斯)心有餘悸，現在，他幾乎成了一絲不掛的乞丐。\n",
            "\n",
            "但是，我想諸位議員能夠明確地瞭解，我們的東擴，不僅僅是讓俄羅斯出出洋相，我們東擴的目的是控制整個歐亞板塊，在那裡，在東南亞有一個我們頭痛的地方，就是中國。」\n",
            "\n",
            "「總之，在這條路上雖然也有一點冒險性，但基本上沒有可以阻擋我們的敵人。一個完全在美國領導下的21世紀很快就會到來。」(全場掌聲)\n",
            "\n",
            "接下來，克林頓針對議員們的提問，將美國的戰略意圖表露得清清楚楚。\n",
            "\n",
            "一議員：總統閣下，科索沃戰事久拖不決，費用一增再增，到底還要打多久？\n",
            "\n",
            "克林頓：縱觀一部美國的發展和發達的歷史，二次世界大戰給我國經濟帶來高速發展已經足以證明，戰爭符合美國的利益。\n",
            "\n",
            "一議員：科索沃是否可能成為下一個朝鮮或越南，讓我們陷入戰爭的泥潭？\n",
            "\n",
            "克林頓：海灣戰爭已證明瞭我們在戰爭中的傷亡幾乎等於零，這就像玩一個電子遊戲。所不同的是，他們是在用他們的生命和不多的、必須賴以生存的家當與我們賭博。\n",
            "\n",
            "一議員：在科索沃戰爭中我們的一再失誤，造成1500多名平民傷亡和中國駐南大使館被炸，這是否證明，我們的戰爭機器已不再受控制或有別的原因？\n",
            "\n",
            "克林頓：我想在這裡強調的是，所有的轟炸目標都是既定目標。同時，我想引用中國領導人的一句話：炸完軍事目標、道路、橋梁，我們還能炸什麼呢。但轟炸必須繼續進行下去。再重申一遍：這符合美國的戰略利益。\n",
            "\n",
            "一議員：毫無疑問，轟炸中國大使館是一次精心策劃的結果，剛才閣下也承認了這一點。可是我似乎看不出有什麼符合美國利益的地方。\n",
            "\n",
            "克林頓：除了莫斯科，東擴——不僅僅指東歐，在更遠一點的地方，有一個讓我們更擔心的國家，他同時也是一個核大國，那就是中國。他本來應該在10年以前就已分成7個國家，可是，至今仍似乎牢不可破。儘管在我們的各種打壓下，他的發展仍然令人吃驚，而且等他自行內部肢解的可能性不大。\n",
            "\n",
            "出於一種考慮，應該讓他沿著前蘇聯的老路走，即瘋狂地軍備，這樣足以拖他下水。不遠的將來，他將同樣因經濟崩潰而無力對我們說「不」，並且淪為國際乞丐。\n",
            "\n",
            "一議員：據說中國的核武器如果在美國本土有效爆炸，可以把美國毀滅若干次。採取這樣一種危險的策略是不是慎重？\n",
            "\n",
            "克林頓：在此之前，我們做了慎重的研究，分析了各種可能性。我們得出的結論是：首先，「誤炸」會刺激中國人，但不致引發中國領導人啓動核按鈕。\n",
            "\n",
            "況且還有一個愚蠢的承諾(指的是中國不首先使用核武器，不對無核國家和地區使用核武器的政策)。其次，中國人現在最想做的事就是需要我們的科技。因此，他們在全球最不想得罪的就是美國。第三，有鑒於此，他們能做的一切也只有抗議而已。第四，即使做最壞的打算，他們動手，這裡我又要再次引用朱鎔基的話，既然世界上最先進的武器全出自美國，我們還怕什麼呢。\n",
            "\n",
            "一議員：那麼人權是否高於主權？\n",
            "\n",
            "克林頓：我覺得在我作完前面有關美國全球戰略的談話後再問這個問題，是政治上的幼稚。\n",
            "\n",
            "一議員：客觀上發展中美關係符合兩國的共同利益，可是轟炸使館這一事件將會使中美關係嚴重倒退，況且已經造成大規模的反美情緒。毫無疑問，這也同樣會影響到本國企業界的利益。總統閣下是如何認為的?\n",
            "\n",
            "克林頓：在我們的全球戰略中，這(中國)是一個可怕的障礙。但我可以預見，中國領導人比我們更渴望恢復中美關係。他們的幾張關鍵的底牌也在我們手中，諸如台灣問題、西藏問題、新疆問題，等等。不管在什麼時候，只要我們想做點文章，是不難找到話題的。\n",
            "\n",
            "要在歐亞板塊全面達到我們的目的，仍然有些麻煩的地方諸如中國和印度等，不過我們的形勢仍然有利。在東方，有日本和台灣，作為我們的永不沈沒的航空母艦，對中國形成鉗制的形勢。\n",
            "\n",
            "全球將按我們的遊戲規則進行，任何行動必須是在符合美國利益的前提之下。在這之後，我們只有一個敵人：外星人，如果他們存在，而且比我們強大的話。\"\n",
            "\n",
            "GPT-4's Response: 1\n",
            "Interpreted Prediction: Fake News (1)\n"
          ]
        }
      ]
    },
    {
      "cell_type": "markdown",
      "source": [
        "**Prompting Task**"
      ],
      "metadata": {
        "id": "V7LB2S5-s93s"
      }
    },
    {
      "cell_type": "code",
      "source": [
        "def predict_and_evaluate(news_texts: List[str], actual_labels: List[int]) -> float:\n",
        "    \"\"\"\n",
        "    Predicts labels for a list of news texts and evaluates the accuracy directly by comparing\n",
        "    each prediction with the actual label.\n",
        "\n",
        "    Args:\n",
        "        news_texts (List[str]): A list of news texts to classify.\n",
        "        actual_labels (List[int]): The actual labels corresponding to the news texts.\n",
        "\n",
        "    Returns:\n",
        "        float: The accuracy of the predictions.\n",
        "    \"\"\"\n",
        "    correct_predictions = 0\n",
        "    valid_predictions = 0\n",
        "\n",
        "    for text, actual_label in tqdm(zip(news_texts, actual_labels), desc=\"Processing news\", total=len(news_texts)):\n",
        "        prediction = gpt4_prompt_fake_news_detection(text)\n",
        "        if prediction is not None:  # Ensure prediction is valid\n",
        "            valid_predictions += 1\n",
        "            if prediction == actual_label:\n",
        "                correct_predictions += 1\n",
        "\n",
        "    if valid_predictions > 0:\n",
        "        accuracy = correct_predictions / valid_predictions\n",
        "    else:\n",
        "        accuracy = 0\n",
        "\n",
        "    return accuracy\n",
        "\n",
        "example_news_texts = data_cleaned['text'].tolist()\n",
        "example_actual_labels = data_cleaned['label'].astype(int).tolist()\n",
        "\n",
        "accuracy = predict_and_evaluate(example_news_texts, example_actual_labels)\n",
        "\n",
        "print(f'Accuracy: {accuracy * 100:.2f}%')"
      ],
      "metadata": {
        "colab": {
          "base_uri": "https://localhost:8080/"
        },
        "id": "ERe23tXmn7Lr",
        "outputId": "7114ed75-3e8c-40ca-eb01-2fcf15847475"
      },
      "execution_count": 13,
      "outputs": [
        {
          "output_type": "stream",
          "name": "stderr",
          "text": [
            "Processing news:  64%|██████▍   | 136/212 [03:23<04:52,  3.85s/it]"
          ]
        },
        {
          "output_type": "stream",
          "name": "stdout",
          "text": [
            "Received an invalid response from GPT-4: 對不起，我無法直接提供新聞或事件的真實性評估，因為我無法存取當前的數據或最新消息。我建議你查找可靠的新聞來源或官方發布的信息以確認該新聞的真實性。\n"
          ]
        },
        {
          "output_type": "stream",
          "name": "stderr",
          "text": [
            "Processing news:  66%|██████▌   | 140/212 [03:35<04:52,  4.06s/it]"
          ]
        },
        {
          "output_type": "stream",
          "name": "stdout",
          "text": [
            "Received an invalid response from GPT-4: 抱歉，我無法直接判斷新聞真偽僅憑提供的信息。欲了解新聞真偽，建議透過官方或可信來源進行查證。\n"
          ]
        },
        {
          "output_type": "stream",
          "name": "stderr",
          "text": [
            "Processing news:  72%|███████▏  | 153/212 [03:56<03:32,  3.60s/it]"
          ]
        },
        {
          "output_type": "stream",
          "name": "stdout",
          "text": [
            "Received an invalid response from GPT-4: 抱歉，我無法直接提供對特定新聞事件真偽性的判斷，因為該能力超出了我的設計範圍。提供分析和判斷現實世界事件的真實性需要依賴最新的、經過事實核查的信息，並且我的訓練數據只到2023年為止。建議查閱可信的新聞來源或事實核查平台來獲得最準確的信息。\n"
          ]
        },
        {
          "output_type": "stream",
          "name": "stderr",
          "text": [
            "Processing news:  76%|███████▌  | 161/212 [04:11<02:13,  2.63s/it]"
          ]
        },
        {
          "output_type": "stream",
          "name": "stdout",
          "text": [
            "Received an invalid response from GPT-4: 抱歉，我無法直接回答新聞真偽的問題。\n"
          ]
        },
        {
          "output_type": "stream",
          "name": "stderr",
          "text": [
            "Processing news:  80%|████████  | 170/212 [04:28<02:44,  3.90s/it]"
          ]
        },
        {
          "output_type": "stream",
          "name": "stdout",
          "text": [
            "Received an invalid response from GPT-4: 抱歉，但我無法直接存取當前或最近的新聞來源進行即時確認。因此，我無法提供針對特定新聞標題或內容真偽的直接評估。建議查閱可靠新聞來源或官方聲明以獲得準確信息。\n"
          ]
        },
        {
          "output_type": "stream",
          "name": "stderr",
          "text": [
            "Processing news: 100%|██████████| 212/212 [05:08<00:00,  1.46s/it]"
          ]
        },
        {
          "output_type": "stream",
          "name": "stdout",
          "text": [
            "Accuracy: 65.70%\n"
          ]
        },
        {
          "output_type": "stream",
          "name": "stderr",
          "text": [
            "\n"
          ]
        }
      ]
    },
    {
      "cell_type": "markdown",
      "source": [
        "**LIAR Dataset**"
      ],
      "metadata": {
        "id": "L_VdVCWqvRuq"
      }
    },
    {
      "cell_type": "code",
      "source": [
        "liar_dataset_path = 'test.csv'\n",
        "column_names = [\n",
        "    'id', 'label', 'statement', 'subjects', 'speaker', 'speaker_title',\n",
        "    'state', 'party', 'not_true_counts', 'barely_true_counts',\n",
        "    'half_true_counts', 'mostly_true_counts', 'pants_fire_counts', 'context'\n",
        "]\n",
        "\n",
        "liar_data = pd.read_csv(liar_dataset_path, names=column_names, header=None)\n",
        "\n",
        "print(liar_data[['statement', 'label']].head())"
      ],
      "metadata": {
        "colab": {
          "base_uri": "https://localhost:8080/"
        },
        "id": "jbNCCv7lvOXp",
        "outputId": "7ffb0c66-1f94-4f2a-e005-0a741e19969a"
      },
      "execution_count": 15,
      "outputs": [
        {
          "output_type": "stream",
          "name": "stdout",
          "text": [
            "                                           statement       label\n",
            "0  Building a wall on the U.S.-Mexico border will...        true\n",
            "1  Wisconsin is on pace to double the number of l...       false\n",
            "2  Says John McCain has done nothing to help the ...       false\n",
            "3  Suzanne Bonamici supports a plan that will cut...   half-true\n",
            "4  When asked by a reporter whether hes at the ce...  pants-fire\n"
          ]
        }
      ]
    },
    {
      "cell_type": "code",
      "source": [
        "def liar_prompt_gpt4(content_text: str) -> str:\n",
        "    \"\"\"\n",
        "    Constructs a prompt for GPT-4 to classify the content into one of six labels.\n",
        "\n",
        "    Args:\n",
        "        content_text (str): The content text to classify.\n",
        "\n",
        "    Returns:\n",
        "        str: The label predicted by GPT-4, or 'invalid' if the response is not recognized.\n",
        "    \"\"\"\n",
        "    prompt = (\n",
        "        f\"Please classify the following content into one of these six categories (and answer in only one of the six labels): \"\n",
        "        f\"true, mostly-true, half-true, barely-true, false, pants-on-fire. \"\n",
        "        f\"Content: \\\"{content_text}\\\"\"\n",
        "    )\n",
        "\n",
        "    response_content = query_gpt4(prompt)\n",
        "\n",
        "    if response_content is None:\n",
        "        print(f\"Failed to receive a valid response for the content: \\\"{content_text}\\\"\")\n",
        "        return 'invalid'\n",
        "\n",
        "    label = response_content.strip().lower()\n",
        "\n",
        "    # List of valid labels\n",
        "    valid_labels = [\"true\", \"mostly-true\", \"half-true\", \"barely-true\", \"false\", \"pants-on-fire\"]\n",
        "\n",
        "    if label not in valid_labels:\n",
        "        print(f\"Received an invalid response from GPT-4: '{response_content}'\")\n",
        "        return 'invalid'\n",
        "\n",
        "    return label\n",
        "\n",
        "\n",
        "def predict_labels(contents: List[str]) -> List[str]:\n",
        "    \"\"\"\n",
        "    Predicts labels for a list of content texts.\n",
        "\n",
        "    Args:\n",
        "        contents (List[str]): A list of content texts to classify.\n",
        "\n",
        "    Returns:\n",
        "        List[str]: Predicted labels by GPT-4.\n",
        "    \"\"\"\n",
        "    predictions = [liar_prompt_gpt4(content) for content in contents]\n",
        "    return predictions\n",
        "\n",
        "def calculate_accuracy(predicted_labels: List[str], actual_labels: List[str]) -> float:\n",
        "    \"\"\"\n",
        "    Calculates the accuracy of predictions against actual labels for multi-class classification,\n",
        "    excluding 'invalid' responses.\n",
        "\n",
        "    Args:\n",
        "        predicted_labels (List[str]): Predicted labels.\n",
        "        actual_labels (List[str]): Actual labels.\n",
        "\n",
        "    Returns:\n",
        "        float: The accuracy score.\n",
        "    \"\"\"\n",
        "    valid_pairs = [(p, a) for p, a in zip(predicted_labels, actual_labels) if p != 'invalid']\n",
        "    if not valid_pairs:\n",
        "        return 0\n",
        "\n",
        "    correct_predictions = sum(p == a for p, a in valid_pairs)\n",
        "    accuracy = correct_predictions / len(valid_pairs)\n",
        "    return accuracy\n",
        "\n",
        "liar_data_sample = liar_data[['statement']].head(200)\n",
        "liar_labels_sample = liar_data[['label']].head(200)\n",
        "\n",
        "predicted_labels = predict_labels(tqdm(liar_data_sample['statement'].tolist(), desc=\"Classifying content\"))\n",
        "accuracy = calculate_accuracy(predicted_labels, liar_labels_sample['label'].tolist())\n",
        "\n",
        "print(f'Accuracy: {accuracy * 100:.2f}%')"
      ],
      "metadata": {
        "colab": {
          "base_uri": "https://localhost:8080/"
        },
        "id": "CS8Kxxf0vjfm",
        "outputId": "d9c6c535-e0a6-418d-a75b-c4043ed56a62"
      },
      "execution_count": 22,
      "outputs": [
        {
          "output_type": "stream",
          "name": "stderr",
          "text": [
            "Classifying content:  24%|██▍       | 49/200 [00:43<02:21,  1.07it/s]"
          ]
        },
        {
          "output_type": "stream",
          "name": "stdout",
          "text": [
            "Received an invalid response from GPT-4: 'mostly-false'\n"
          ]
        },
        {
          "output_type": "stream",
          "name": "stderr",
          "text": [
            "Classifying content:  61%|██████    | 122/200 [01:47<00:54,  1.42it/s]"
          ]
        },
        {
          "output_type": "stream",
          "name": "stdout",
          "text": [
            "Received an invalid response from GPT-4: 'mostly-false'\n"
          ]
        },
        {
          "output_type": "stream",
          "name": "stderr",
          "text": [
            "Classifying content: 100%|██████████| 200/200 [02:51<00:00,  1.16it/s]"
          ]
        },
        {
          "output_type": "stream",
          "name": "stdout",
          "text": [
            "Accuracy: 21.21%\n"
          ]
        },
        {
          "output_type": "stream",
          "name": "stderr",
          "text": [
            "\n"
          ]
        }
      ]
    }
  ]
}