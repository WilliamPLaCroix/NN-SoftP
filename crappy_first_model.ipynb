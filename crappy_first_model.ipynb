{
 "cells": [
  {
   "cell_type": "code",
   "execution_count": 2,
   "metadata": {},
   "outputs": [
    {
     "data": {
      "application/vnd.jupyter.widget-view+json": {
       "model_id": "3d8671df1c224d708210247bd34f4f74",
       "version_major": 2,
       "version_minor": 0
      },
      "text/plain": [
       "VBox(children=(HTML(value='<center> <img\\nsrc=https://huggingface.co/front/assets/huggingface_logo-noborder.sv…"
      ]
     },
     "metadata": {},
     "output_type": "display_data"
    }
   ],
   "source": [
    "from huggingface_hub import login\n",
    "#from datasets import load_dataset, Dataset\n",
    "from torch.utils.data import Dataset, DataLoader\n",
    "import pandas as pd\n",
    "import matplotlib.pyplot as plt\n",
    "import re\n",
    "from tqdm import tqdm\n",
    "import numpy as np\n",
    "from transformers import XLMRobertaModel, XLMRobertaTokenizerFast\n",
    "from sklearn.metrics import accuracy_score, f1_score, confusion_matrix\n",
    "from sklearn.utils.class_weight import compute_class_weight\n",
    "import torch\n",
    "\n",
    "device = torch.device(\"cuda\" if torch.cuda.is_available() else \"cpu\")\n",
    "# authentication with huggingface\n",
    "# create token at https://huggingface.co/settings/tokens (create as read)\n",
    "# token should be stored locally, so technically login is only needed one time\n",
    "login()"
   ]
  },
  {
   "cell_type": "code",
   "execution_count": 3,
   "metadata": {},
   "outputs": [
    {
     "data": {
      "text/html": [
       "<div>\n",
       "<style scoped>\n",
       "    .dataframe tbody tr th:only-of-type {\n",
       "        vertical-align: middle;\n",
       "    }\n",
       "\n",
       "    .dataframe tbody tr th {\n",
       "        vertical-align: top;\n",
       "    }\n",
       "\n",
       "    .dataframe thead th {\n",
       "        text-align: right;\n",
       "    }\n",
       "</style>\n",
       "<table border=\"1\" class=\"dataframe\">\n",
       "  <thead>\n",
       "    <tr style=\"text-align: right;\">\n",
       "      <th></th>\n",
       "      <th>id</th>\n",
       "      <th>articleType</th>\n",
       "      <th>status_x</th>\n",
       "      <th>text</th>\n",
       "      <th>normalArticleReplyCount</th>\n",
       "      <th>createdAt_x</th>\n",
       "      <th>updatedAt_x</th>\n",
       "      <th>lastRequestedAt</th>\n",
       "      <th>userIdsha256_x</th>\n",
       "      <th>appId_x</th>\n",
       "      <th>...</th>\n",
       "      <th>articleId</th>\n",
       "      <th>replyId</th>\n",
       "      <th>userIdsha256_y</th>\n",
       "      <th>negativeFeedbackCount</th>\n",
       "      <th>positiveFeedbackCount</th>\n",
       "      <th>replyType</th>\n",
       "      <th>appId_y</th>\n",
       "      <th>status_y</th>\n",
       "      <th>createdAt_y</th>\n",
       "      <th>updatedAt_y</th>\n",
       "    </tr>\n",
       "  </thead>\n",
       "  <tbody>\n",
       "    <tr>\n",
       "      <th>0</th>\n",
       "      <td>14h550ymn3m3u</td>\n",
       "      <td>TEXT</td>\n",
       "      <td>NORMAL</td>\n",
       "      <td>BA.5病毒引發的不只「縮短潛伏期，增加R0值」，還有易使人「再感染（Reinfecion）...</td>\n",
       "      <td>1.0</td>\n",
       "      <td>2022-09-05T05:26:33.360Z</td>\n",
       "      <td>2022-09-05T05:26:33.360Z</td>\n",
       "      <td>2022-09-05T05:26:33.381Z</td>\n",
       "      <td>3753ca22ca96f5fc1f13e62291f28e405d56b1a976b21d...</td>\n",
       "      <td>RUMORS_LINE_BOT</td>\n",
       "      <td>...</td>\n",
       "      <td>14h550ymn3m3u</td>\n",
       "      <td>6oo8DYMBv5it-Cx_8405</td>\n",
       "      <td>6892d0026181e95d034bf8781025afbf395d57cc88ac05...</td>\n",
       "      <td>0.0</td>\n",
       "      <td>3.0</td>\n",
       "      <td>RUMOR</td>\n",
       "      <td>WEBSITE</td>\n",
       "      <td>NORMAL</td>\n",
       "      <td>2022-09-05T10:40:41.789Z</td>\n",
       "      <td>2022-09-05T10:40:41.789Z</td>\n",
       "    </tr>\n",
       "    <tr>\n",
       "      <th>1</th>\n",
       "      <td>326xjpkjbf01i</td>\n",
       "      <td>TEXT</td>\n",
       "      <td>NORMAL</td>\n",
       "      <td>https://youtu.be/xK9NzL3PkdE</td>\n",
       "      <td>0.0</td>\n",
       "      <td>2022-09-08T12:34:27.602Z</td>\n",
       "      <td>2022-09-08T12:34:27.602Z</td>\n",
       "      <td>2022-09-08T12:34:27.634Z</td>\n",
       "      <td>243b5897c14f02fb5b92a9e4f4cc39d5fb84ff16173add...</td>\n",
       "      <td>RUMORS_LINE_BOT</td>\n",
       "      <td>...</td>\n",
       "      <td>NaN</td>\n",
       "      <td>NaN</td>\n",
       "      <td>NaN</td>\n",
       "      <td>NaN</td>\n",
       "      <td>NaN</td>\n",
       "      <td>NaN</td>\n",
       "      <td>NaN</td>\n",
       "      <td>NaN</td>\n",
       "      <td>NaN</td>\n",
       "      <td>NaN</td>\n",
       "    </tr>\n",
       "    <tr>\n",
       "      <th>2</th>\n",
       "      <td>oupi0eu9aocr</td>\n",
       "      <td>TEXT</td>\n",
       "      <td>NORMAL</td>\n",
       "      <td>被取消的航班\\n\\n2018年的一天，我從洛杉磯回國，乘坐凌晨一點的國航航班，馬上要登機了，...</td>\n",
       "      <td>1.0</td>\n",
       "      <td>2021-11-13T16:36:56.548Z</td>\n",
       "      <td>2021-11-13T16:36:56.548Z</td>\n",
       "      <td>2022-04-27T08:52:17.115Z</td>\n",
       "      <td>4a266a6fdefc88e59eef644402e97c7f4c8196becca686...</td>\n",
       "      <td>RUMORS_LINE_BOT</td>\n",
       "      <td>...</td>\n",
       "      <td>oupi0eu9aocr</td>\n",
       "      <td>MYotCYMBv5it-Cx_gIpH</td>\n",
       "      <td>fc9652aa205dab75e19ecff420945e95aa3909a54b0d9a...</td>\n",
       "      <td>0.0</td>\n",
       "      <td>1.0</td>\n",
       "      <td>OPINIONATED</td>\n",
       "      <td>WEBSITE</td>\n",
       "      <td>NORMAL</td>\n",
       "      <td>2022-09-04T15:45:20.464Z</td>\n",
       "      <td>2022-09-04T15:45:20.464Z</td>\n",
       "    </tr>\n",
       "    <tr>\n",
       "      <th>3</th>\n",
       "      <td>my5ep5z69tql</td>\n",
       "      <td>TEXT</td>\n",
       "      <td>NORMAL</td>\n",
       "      <td>你好👱🏻‍♀️\\n\\n簡單跟你說一下公司工作內容：\\n我們是做購物系統訂單的工作，主要就是增...</td>\n",
       "      <td>1.0</td>\n",
       "      <td>2022-08-11T20:53:15.644Z</td>\n",
       "      <td>2022-08-11T20:53:15.644Z</td>\n",
       "      <td>2022-09-07T11:02:00.344Z</td>\n",
       "      <td>8a8a319bea0b3bff580d8507ae6470ba37e87791171886...</td>\n",
       "      <td>RUMORS_LINE_BOT</td>\n",
       "      <td>...</td>\n",
       "      <td>my5ep5z69tql</td>\n",
       "      <td>y22DlmsBFV14knB4ErTJ</td>\n",
       "      <td>d16417c7ce4ab67ac5a7901ce62621445db3e06da5da6f...</td>\n",
       "      <td>0.0</td>\n",
       "      <td>1.0</td>\n",
       "      <td>RUMOR</td>\n",
       "      <td>WEBSITE</td>\n",
       "      <td>NORMAL</td>\n",
       "      <td>2022-09-07T22:59:48.921Z</td>\n",
       "      <td>2022-09-07T22:59:48.921Z</td>\n",
       "    </tr>\n",
       "    <tr>\n",
       "      <th>4</th>\n",
       "      <td>3dnh713ikpf3c</td>\n",
       "      <td>TEXT</td>\n",
       "      <td>NORMAL</td>\n",
       "      <td>先和你簡單介紹\\n我們誠徵線上打工小幫手\\n工作內容有：聽寫打字、頁面排版、商品評論刷流量、...</td>\n",
       "      <td>1.0</td>\n",
       "      <td>2022-09-07T10:10:41.742Z</td>\n",
       "      <td>2022-09-07T10:10:41.742Z</td>\n",
       "      <td>2022-09-07T10:10:41.761Z</td>\n",
       "      <td>47e90b2538a5615b323f50571b77d91f7f105e55684aa1...</td>\n",
       "      <td>RUMORS_LINE_BOT</td>\n",
       "      <td>...</td>\n",
       "      <td>3dnh713ikpf3c</td>\n",
       "      <td>H8Hz4WsBqwaEkHKwtyFm</td>\n",
       "      <td>d16417c7ce4ab67ac5a7901ce62621445db3e06da5da6f...</td>\n",
       "      <td>0.0</td>\n",
       "      <td>1.0</td>\n",
       "      <td>RUMOR</td>\n",
       "      <td>WEBSITE</td>\n",
       "      <td>NORMAL</td>\n",
       "      <td>2022-09-07T23:00:19.207Z</td>\n",
       "      <td>2022-09-07T23:00:19.207Z</td>\n",
       "    </tr>\n",
       "  </tbody>\n",
       "</table>\n",
       "<p>5 rows × 21 columns</p>\n",
       "</div>"
      ],
      "text/plain": [
       "              id articleType status_x  \\\n",
       "0  14h550ymn3m3u        TEXT   NORMAL   \n",
       "1  326xjpkjbf01i        TEXT   NORMAL   \n",
       "2   oupi0eu9aocr        TEXT   NORMAL   \n",
       "3   my5ep5z69tql        TEXT   NORMAL   \n",
       "4  3dnh713ikpf3c        TEXT   NORMAL   \n",
       "\n",
       "                                                text  normalArticleReplyCount  \\\n",
       "0  BA.5病毒引發的不只「縮短潛伏期，增加R0值」，還有易使人「再感染（Reinfecion）...                      1.0   \n",
       "1                       https://youtu.be/xK9NzL3PkdE                      0.0   \n",
       "2  被取消的航班\\n\\n2018年的一天，我從洛杉磯回國，乘坐凌晨一點的國航航班，馬上要登機了，...                      1.0   \n",
       "3  你好👱🏻‍♀️\\n\\n簡單跟你說一下公司工作內容：\\n我們是做購物系統訂單的工作，主要就是增...                      1.0   \n",
       "4  先和你簡單介紹\\n我們誠徵線上打工小幫手\\n工作內容有：聽寫打字、頁面排版、商品評論刷流量、...                      1.0   \n",
       "\n",
       "                createdAt_x               updatedAt_x  \\\n",
       "0  2022-09-05T05:26:33.360Z  2022-09-05T05:26:33.360Z   \n",
       "1  2022-09-08T12:34:27.602Z  2022-09-08T12:34:27.602Z   \n",
       "2  2021-11-13T16:36:56.548Z  2021-11-13T16:36:56.548Z   \n",
       "3  2022-08-11T20:53:15.644Z  2022-08-11T20:53:15.644Z   \n",
       "4  2022-09-07T10:10:41.742Z  2022-09-07T10:10:41.742Z   \n",
       "\n",
       "            lastRequestedAt  \\\n",
       "0  2022-09-05T05:26:33.381Z   \n",
       "1  2022-09-08T12:34:27.634Z   \n",
       "2  2022-04-27T08:52:17.115Z   \n",
       "3  2022-09-07T11:02:00.344Z   \n",
       "4  2022-09-07T10:10:41.761Z   \n",
       "\n",
       "                                      userIdsha256_x          appId_x  ...  \\\n",
       "0  3753ca22ca96f5fc1f13e62291f28e405d56b1a976b21d...  RUMORS_LINE_BOT  ...   \n",
       "1  243b5897c14f02fb5b92a9e4f4cc39d5fb84ff16173add...  RUMORS_LINE_BOT  ...   \n",
       "2  4a266a6fdefc88e59eef644402e97c7f4c8196becca686...  RUMORS_LINE_BOT  ...   \n",
       "3  8a8a319bea0b3bff580d8507ae6470ba37e87791171886...  RUMORS_LINE_BOT  ...   \n",
       "4  47e90b2538a5615b323f50571b77d91f7f105e55684aa1...  RUMORS_LINE_BOT  ...   \n",
       "\n",
       "       articleId               replyId  \\\n",
       "0  14h550ymn3m3u  6oo8DYMBv5it-Cx_8405   \n",
       "1            NaN                   NaN   \n",
       "2   oupi0eu9aocr  MYotCYMBv5it-Cx_gIpH   \n",
       "3   my5ep5z69tql  y22DlmsBFV14knB4ErTJ   \n",
       "4  3dnh713ikpf3c  H8Hz4WsBqwaEkHKwtyFm   \n",
       "\n",
       "                                      userIdsha256_y negativeFeedbackCount  \\\n",
       "0  6892d0026181e95d034bf8781025afbf395d57cc88ac05...                   0.0   \n",
       "1                                                NaN                   NaN   \n",
       "2  fc9652aa205dab75e19ecff420945e95aa3909a54b0d9a...                   0.0   \n",
       "3  d16417c7ce4ab67ac5a7901ce62621445db3e06da5da6f...                   0.0   \n",
       "4  d16417c7ce4ab67ac5a7901ce62621445db3e06da5da6f...                   0.0   \n",
       "\n",
       "   positiveFeedbackCount    replyType  appId_y status_y  \\\n",
       "0                    3.0        RUMOR  WEBSITE   NORMAL   \n",
       "1                    NaN          NaN      NaN      NaN   \n",
       "2                    1.0  OPINIONATED  WEBSITE   NORMAL   \n",
       "3                    1.0        RUMOR  WEBSITE   NORMAL   \n",
       "4                    1.0        RUMOR  WEBSITE   NORMAL   \n",
       "\n",
       "                createdAt_y               updatedAt_y  \n",
       "0  2022-09-05T10:40:41.789Z  2022-09-05T10:40:41.789Z  \n",
       "1                       NaN                       NaN  \n",
       "2  2022-09-04T15:45:20.464Z  2022-09-04T15:45:20.464Z  \n",
       "3  2022-09-07T22:59:48.921Z  2022-09-07T22:59:48.921Z  \n",
       "4  2022-09-07T23:00:19.207Z  2022-09-07T23:00:19.207Z  \n",
       "\n",
       "[5 rows x 21 columns]"
      ]
     },
     "execution_count": 3,
     "metadata": {},
     "output_type": "execute_result"
    }
   ],
   "source": [
    "# # download specific dataset files; entire archive is only ~250 mb\n",
    "# articles = load_dataset(\"Cofacts/line-msg-fact-check-tw\", \"articles\") # article contents and some meta info\n",
    "# article_replies = load_dataset(\"Cofacts/line-msg-fact-check-tw\", \"article_replies\") # 'join table' for articles and replies with added meta info\n",
    "\n",
    "# open from csv\n",
    "articles = pd.read_csv('./data/articles.csv',lineterminator='\\n')\n",
    "article_replies = pd.read_csv('./data/article_replies.csv')\n",
    "art_rep_df = pd.merge(articles, article_replies, left_on=\"id\", right_on=\"articleId\", how=\"left\")\n",
    "art_rep_df.head()"
   ]
  },
  {
   "cell_type": "code",
   "execution_count": 4,
   "metadata": {},
   "outputs": [],
   "source": [
    "def get_max_length(texts: list):\n",
    "    max_length = 0\n",
    "    for t in texts:\n",
    "        if t:\n",
    "            max_length = max(max_length, len(t))\n",
    "    return max_length\n",
    "\n",
    "def inspect_dist(col: list, threshold = 0):\n",
    "    if threshold == 0:\n",
    "        plt.hist(col, bins=100)\n",
    "        plt.show()\n",
    "    else:\n",
    "        plt.hist(col[col <= threshold], bins=100)\n",
    "        plt.show()\n",
    "        print(f\"Remaining datapoints: {len(col[col <= threshold]) / len(col)}\")\n",
    "\n",
    "def remove_url(text: str):\n",
    "    text = re.sub(r\"https?://(?:www\\.)?\\w+(?:\\.\\w+)+(?:/\\S*)?\", \"\", text)\n",
    "    if len(text) == 0:\n",
    "        text = pd.NA\n",
    "    return text"
   ]
  },
  {
   "cell_type": "code",
   "execution_count": 5,
   "metadata": {},
   "outputs": [
    {
     "data": {
      "text/html": [
       "<div>\n",
       "<style scoped>\n",
       "    .dataframe tbody tr th:only-of-type {\n",
       "        vertical-align: middle;\n",
       "    }\n",
       "\n",
       "    .dataframe tbody tr th {\n",
       "        vertical-align: top;\n",
       "    }\n",
       "\n",
       "    .dataframe thead th {\n",
       "        text-align: right;\n",
       "    }\n",
       "</style>\n",
       "<table border=\"1\" class=\"dataframe\">\n",
       "  <thead>\n",
       "    <tr style=\"text-align: right;\">\n",
       "      <th></th>\n",
       "      <th>id</th>\n",
       "      <th>articleType</th>\n",
       "      <th>status_x</th>\n",
       "      <th>text</th>\n",
       "      <th>normalArticleReplyCount</th>\n",
       "      <th>createdAt_x</th>\n",
       "      <th>updatedAt_x</th>\n",
       "      <th>lastRequestedAt</th>\n",
       "      <th>userIdsha256_x</th>\n",
       "      <th>appId_x</th>\n",
       "      <th>...</th>\n",
       "      <th>articleId</th>\n",
       "      <th>replyId</th>\n",
       "      <th>userIdsha256_y</th>\n",
       "      <th>negativeFeedbackCount</th>\n",
       "      <th>positiveFeedbackCount</th>\n",
       "      <th>replyType</th>\n",
       "      <th>appId_y</th>\n",
       "      <th>status_y</th>\n",
       "      <th>createdAt_y</th>\n",
       "      <th>updatedAt_y</th>\n",
       "    </tr>\n",
       "  </thead>\n",
       "  <tbody>\n",
       "    <tr>\n",
       "      <th>0</th>\n",
       "      <td>14h550ymn3m3u</td>\n",
       "      <td>TEXT</td>\n",
       "      <td>NORMAL</td>\n",
       "      <td>BA.5病毒引發的不只「縮短潛伏期，增加R0值」，還有易使人「再感染（Reinfecion）...</td>\n",
       "      <td>1.0</td>\n",
       "      <td>2022-09-05T05:26:33.360Z</td>\n",
       "      <td>2022-09-05T05:26:33.360Z</td>\n",
       "      <td>2022-09-05T05:26:33.381Z</td>\n",
       "      <td>3753ca22ca96f5fc1f13e62291f28e405d56b1a976b21d...</td>\n",
       "      <td>RUMORS_LINE_BOT</td>\n",
       "      <td>...</td>\n",
       "      <td>14h550ymn3m3u</td>\n",
       "      <td>6oo8DYMBv5it-Cx_8405</td>\n",
       "      <td>6892d0026181e95d034bf8781025afbf395d57cc88ac05...</td>\n",
       "      <td>0.0</td>\n",
       "      <td>3.0</td>\n",
       "      <td>RUMOR</td>\n",
       "      <td>WEBSITE</td>\n",
       "      <td>NORMAL</td>\n",
       "      <td>2022-09-05T10:40:41.789Z</td>\n",
       "      <td>2022-09-05T10:40:41.789Z</td>\n",
       "    </tr>\n",
       "    <tr>\n",
       "      <th>2</th>\n",
       "      <td>oupi0eu9aocr</td>\n",
       "      <td>TEXT</td>\n",
       "      <td>NORMAL</td>\n",
       "      <td>被取消的航班\\n\\n2018年的一天，我從洛杉磯回國，乘坐凌晨一點的國航航班，馬上要登機了，...</td>\n",
       "      <td>1.0</td>\n",
       "      <td>2021-11-13T16:36:56.548Z</td>\n",
       "      <td>2021-11-13T16:36:56.548Z</td>\n",
       "      <td>2022-04-27T08:52:17.115Z</td>\n",
       "      <td>4a266a6fdefc88e59eef644402e97c7f4c8196becca686...</td>\n",
       "      <td>RUMORS_LINE_BOT</td>\n",
       "      <td>...</td>\n",
       "      <td>oupi0eu9aocr</td>\n",
       "      <td>MYotCYMBv5it-Cx_gIpH</td>\n",
       "      <td>fc9652aa205dab75e19ecff420945e95aa3909a54b0d9a...</td>\n",
       "      <td>0.0</td>\n",
       "      <td>1.0</td>\n",
       "      <td>OPINIONATED</td>\n",
       "      <td>WEBSITE</td>\n",
       "      <td>NORMAL</td>\n",
       "      <td>2022-09-04T15:45:20.464Z</td>\n",
       "      <td>2022-09-04T15:45:20.464Z</td>\n",
       "    </tr>\n",
       "    <tr>\n",
       "      <th>3</th>\n",
       "      <td>my5ep5z69tql</td>\n",
       "      <td>TEXT</td>\n",
       "      <td>NORMAL</td>\n",
       "      <td>你好👱🏻‍♀️\\n\\n簡單跟你說一下公司工作內容：\\n我們是做購物系統訂單的工作，主要就是增...</td>\n",
       "      <td>1.0</td>\n",
       "      <td>2022-08-11T20:53:15.644Z</td>\n",
       "      <td>2022-08-11T20:53:15.644Z</td>\n",
       "      <td>2022-09-07T11:02:00.344Z</td>\n",
       "      <td>8a8a319bea0b3bff580d8507ae6470ba37e87791171886...</td>\n",
       "      <td>RUMORS_LINE_BOT</td>\n",
       "      <td>...</td>\n",
       "      <td>my5ep5z69tql</td>\n",
       "      <td>y22DlmsBFV14knB4ErTJ</td>\n",
       "      <td>d16417c7ce4ab67ac5a7901ce62621445db3e06da5da6f...</td>\n",
       "      <td>0.0</td>\n",
       "      <td>1.0</td>\n",
       "      <td>RUMOR</td>\n",
       "      <td>WEBSITE</td>\n",
       "      <td>NORMAL</td>\n",
       "      <td>2022-09-07T22:59:48.921Z</td>\n",
       "      <td>2022-09-07T22:59:48.921Z</td>\n",
       "    </tr>\n",
       "    <tr>\n",
       "      <th>4</th>\n",
       "      <td>3dnh713ikpf3c</td>\n",
       "      <td>TEXT</td>\n",
       "      <td>NORMAL</td>\n",
       "      <td>先和你簡單介紹\\n我們誠徵線上打工小幫手\\n工作內容有：聽寫打字、頁面排版、商品評論刷流量、...</td>\n",
       "      <td>1.0</td>\n",
       "      <td>2022-09-07T10:10:41.742Z</td>\n",
       "      <td>2022-09-07T10:10:41.742Z</td>\n",
       "      <td>2022-09-07T10:10:41.761Z</td>\n",
       "      <td>47e90b2538a5615b323f50571b77d91f7f105e55684aa1...</td>\n",
       "      <td>RUMORS_LINE_BOT</td>\n",
       "      <td>...</td>\n",
       "      <td>3dnh713ikpf3c</td>\n",
       "      <td>H8Hz4WsBqwaEkHKwtyFm</td>\n",
       "      <td>d16417c7ce4ab67ac5a7901ce62621445db3e06da5da6f...</td>\n",
       "      <td>0.0</td>\n",
       "      <td>1.0</td>\n",
       "      <td>RUMOR</td>\n",
       "      <td>WEBSITE</td>\n",
       "      <td>NORMAL</td>\n",
       "      <td>2022-09-07T23:00:19.207Z</td>\n",
       "      <td>2022-09-07T23:00:19.207Z</td>\n",
       "    </tr>\n",
       "    <tr>\n",
       "      <th>5</th>\n",
       "      <td>2m9drd702d8l1</td>\n",
       "      <td>TEXT</td>\n",
       "      <td>NORMAL</td>\n",
       "      <td>【樂天貸款】尊敬的用戶，您的借款額度已提升到50萬，當天領取當天到賬，及時添加專員提現LIN...</td>\n",
       "      <td>1.0</td>\n",
       "      <td>2022-09-07T11:56:37.690Z</td>\n",
       "      <td>2022-09-07T11:56:37.690Z</td>\n",
       "      <td>2022-09-07T11:56:37.713Z</td>\n",
       "      <td>c8d02860e8fdeea921585710dba8e3eb8da914b57f3ad4...</td>\n",
       "      <td>RUMORS_LINE_BOT</td>\n",
       "      <td>...</td>\n",
       "      <td>2m9drd702d8l1</td>\n",
       "      <td>moopGoMBv5it-Cx_FZnG</td>\n",
       "      <td>d16417c7ce4ab67ac5a7901ce62621445db3e06da5da6f...</td>\n",
       "      <td>0.0</td>\n",
       "      <td>1.0</td>\n",
       "      <td>RUMOR</td>\n",
       "      <td>WEBSITE</td>\n",
       "      <td>NORMAL</td>\n",
       "      <td>2022-09-07T22:54:03.723Z</td>\n",
       "      <td>2022-09-07T22:54:03.723Z</td>\n",
       "    </tr>\n",
       "  </tbody>\n",
       "</table>\n",
       "<p>5 rows × 21 columns</p>\n",
       "</div>"
      ],
      "text/plain": [
       "              id articleType status_x  \\\n",
       "0  14h550ymn3m3u        TEXT   NORMAL   \n",
       "2   oupi0eu9aocr        TEXT   NORMAL   \n",
       "3   my5ep5z69tql        TEXT   NORMAL   \n",
       "4  3dnh713ikpf3c        TEXT   NORMAL   \n",
       "5  2m9drd702d8l1        TEXT   NORMAL   \n",
       "\n",
       "                                                text  normalArticleReplyCount  \\\n",
       "0  BA.5病毒引發的不只「縮短潛伏期，增加R0值」，還有易使人「再感染（Reinfecion）...                      1.0   \n",
       "2  被取消的航班\\n\\n2018年的一天，我從洛杉磯回國，乘坐凌晨一點的國航航班，馬上要登機了，...                      1.0   \n",
       "3  你好👱🏻‍♀️\\n\\n簡單跟你說一下公司工作內容：\\n我們是做購物系統訂單的工作，主要就是增...                      1.0   \n",
       "4  先和你簡單介紹\\n我們誠徵線上打工小幫手\\n工作內容有：聽寫打字、頁面排版、商品評論刷流量、...                      1.0   \n",
       "5  【樂天貸款】尊敬的用戶，您的借款額度已提升到50萬，當天領取當天到賬，及時添加專員提現LIN...                      1.0   \n",
       "\n",
       "                createdAt_x               updatedAt_x  \\\n",
       "0  2022-09-05T05:26:33.360Z  2022-09-05T05:26:33.360Z   \n",
       "2  2021-11-13T16:36:56.548Z  2021-11-13T16:36:56.548Z   \n",
       "3  2022-08-11T20:53:15.644Z  2022-08-11T20:53:15.644Z   \n",
       "4  2022-09-07T10:10:41.742Z  2022-09-07T10:10:41.742Z   \n",
       "5  2022-09-07T11:56:37.690Z  2022-09-07T11:56:37.690Z   \n",
       "\n",
       "            lastRequestedAt  \\\n",
       "0  2022-09-05T05:26:33.381Z   \n",
       "2  2022-04-27T08:52:17.115Z   \n",
       "3  2022-09-07T11:02:00.344Z   \n",
       "4  2022-09-07T10:10:41.761Z   \n",
       "5  2022-09-07T11:56:37.713Z   \n",
       "\n",
       "                                      userIdsha256_x          appId_x  ...  \\\n",
       "0  3753ca22ca96f5fc1f13e62291f28e405d56b1a976b21d...  RUMORS_LINE_BOT  ...   \n",
       "2  4a266a6fdefc88e59eef644402e97c7f4c8196becca686...  RUMORS_LINE_BOT  ...   \n",
       "3  8a8a319bea0b3bff580d8507ae6470ba37e87791171886...  RUMORS_LINE_BOT  ...   \n",
       "4  47e90b2538a5615b323f50571b77d91f7f105e55684aa1...  RUMORS_LINE_BOT  ...   \n",
       "5  c8d02860e8fdeea921585710dba8e3eb8da914b57f3ad4...  RUMORS_LINE_BOT  ...   \n",
       "\n",
       "       articleId               replyId  \\\n",
       "0  14h550ymn3m3u  6oo8DYMBv5it-Cx_8405   \n",
       "2   oupi0eu9aocr  MYotCYMBv5it-Cx_gIpH   \n",
       "3   my5ep5z69tql  y22DlmsBFV14knB4ErTJ   \n",
       "4  3dnh713ikpf3c  H8Hz4WsBqwaEkHKwtyFm   \n",
       "5  2m9drd702d8l1  moopGoMBv5it-Cx_FZnG   \n",
       "\n",
       "                                      userIdsha256_y negativeFeedbackCount  \\\n",
       "0  6892d0026181e95d034bf8781025afbf395d57cc88ac05...                   0.0   \n",
       "2  fc9652aa205dab75e19ecff420945e95aa3909a54b0d9a...                   0.0   \n",
       "3  d16417c7ce4ab67ac5a7901ce62621445db3e06da5da6f...                   0.0   \n",
       "4  d16417c7ce4ab67ac5a7901ce62621445db3e06da5da6f...                   0.0   \n",
       "5  d16417c7ce4ab67ac5a7901ce62621445db3e06da5da6f...                   0.0   \n",
       "\n",
       "   positiveFeedbackCount    replyType  appId_y status_y  \\\n",
       "0                    3.0        RUMOR  WEBSITE   NORMAL   \n",
       "2                    1.0  OPINIONATED  WEBSITE   NORMAL   \n",
       "3                    1.0        RUMOR  WEBSITE   NORMAL   \n",
       "4                    1.0        RUMOR  WEBSITE   NORMAL   \n",
       "5                    1.0        RUMOR  WEBSITE   NORMAL   \n",
       "\n",
       "                createdAt_y               updatedAt_y  \n",
       "0  2022-09-05T10:40:41.789Z  2022-09-05T10:40:41.789Z  \n",
       "2  2022-09-04T15:45:20.464Z  2022-09-04T15:45:20.464Z  \n",
       "3  2022-09-07T22:59:48.921Z  2022-09-07T22:59:48.921Z  \n",
       "4  2022-09-07T23:00:19.207Z  2022-09-07T23:00:19.207Z  \n",
       "5  2022-09-07T22:54:03.723Z  2022-09-07T22:54:03.723Z  \n",
       "\n",
       "[5 rows x 21 columns]"
      ]
     },
     "execution_count": 5,
     "metadata": {},
     "output_type": "execute_result"
    }
   ],
   "source": [
    "no_nans = art_rep_df.dropna(subset=[\"text\", \"replyType\"])\n",
    "filter_articles = no_nans[no_nans[\"replyType\"] != \"NOT_ARTICLE\"]\n",
    "no_urls = filter_articles.copy()\n",
    "no_urls[\"text\"] = no_urls[\"text\"].apply(remove_url)\n",
    "no_urls = no_urls[no_urls['text'] != \"<NA>\"]\n",
    "#no_urls = no_urls.dropna(subset=[\"text\"])\n",
    "no_urls.head()"
   ]
  },
  {
   "cell_type": "code",
   "execution_count": 6,
   "metadata": {},
   "outputs": [
    {
     "name": "stderr",
     "output_type": "stream",
     "text": [
      "Token indices sequence length is longer than the specified maximum sequence length for this model (5111 > 512). Running this sequence through the model will result in indexing errors\n"
     ]
    }
   ],
   "source": [
    "tokenizer = XLMRobertaTokenizerFast.from_pretrained(\"xlm-roberta-base\")\n",
    "\n",
    "listed = no_urls[['text','replyType']].dropna().copy()\n",
    "listed['replyType'] = listed['replyType'].map(lambda x: x.replace(\"NOT_RUMOR\", \"0\"))\n",
    "listed['replyType'] = listed['replyType'].map(lambda x: x.replace(\"OPINIONATED\", \"1\"))\n",
    "listed['replyType'] = listed['replyType'].map(lambda x: x.replace(\"RUMOR\", \"2\"))\n",
    "listed['replyType'] = listed['replyType'].astype(int)\n",
    "listed['text'] = listed['text'].map(lambda x: torch.Tensor(tokenizer(x)['input_ids']))\n",
    "listed['replyType'] = listed['replyType'].map(lambda x: torch.tensor(x))\n",
    "#padded = torch.nn.utils.rnn.pad_sequence(listed['text'], batch_first=True)\n",
    "padded = torch.nn.utils.rnn.pad_sequence([i.flip(dims=[0]) for i in listed['text']], batch_first=True).flip(dims=[0])\n",
    "zipped = list(zip(padded, listed['replyType']))"
   ]
  },
  {
   "cell_type": "code",
   "execution_count": null,
   "metadata": {},
   "outputs": [],
   "source": []
  },
  {
   "cell_type": "code",
   "execution_count": 7,
   "metadata": {},
   "outputs": [],
   "source": [
    "# def k_fold_split_data(dataset, batch_size, k=5):\n",
    "#     n = len(dataset)\n",
    "#     fold_size = n // k\n",
    "#     folds = []\n",
    "\n",
    "#     def collate_fn(data):\n",
    "#         tensors, targets = zip(*data)\n",
    "#         features = torch.nn.utils.rnn.pad_sequence(tensors, batch_first=True)\n",
    "#         targets = torch.stack(targets)\n",
    "#         return features, targets\n",
    "\n",
    "#     for i in range(k):\n",
    "#         start = i * fold_size\n",
    "#         end = (i + 1) * fold_size if i < k - 1 else n\n",
    "#         folds.append(torch.utils.data.Subset(dataset, range(start, end)))\n",
    "\n",
    "#     dataloaders = []\n",
    "#     for i in range(k):\n",
    "#         validation_dataset = folds[i]\n",
    "#         train_folds = [folds[j] for j in range(k) if j != i]\n",
    "#         train_dataset = torch.utils.data.ConcatDataset(train_folds)\n",
    "\n",
    "#         y = torch.tensor([label for _, label in train_dataset], dtype=torch.long)\n",
    "\n",
    "#         global class_weights\n",
    "#         class_weights = compute_class_weight(class_weight='balanced', classes=np.unique(y), y=y.numpy())\n",
    "#         class_weights = torch.tensor(class_weights, dtype=torch.float)\n",
    "\n",
    "#         train_dataloader = DataLoader(train_dataset, batch_size=batch_size, shuffle=True, collate_fn=collate_fn)\n",
    "#         validation_dataloader = DataLoader(validation_dataset, batch_size=batch_size, shuffle=True, collate_fn=collate_fn)\n",
    "#         dataloaders.append((train_dataloader, validation_dataloader))\n",
    "\n",
    "#     return dataloaders"
   ]
  },
  {
   "cell_type": "code",
   "execution_count": 8,
   "metadata": {},
   "outputs": [],
   "source": [
    "def randomly_split_data(dataset, batch_size):\n",
    "    \n",
    "\n",
    "    #generator = torch.Generator().manual_seed(42)\n",
    "    #train_dataset, validation_dataset, test_dataset = torch.utils.data.random_split(dataset, [0.8, 0.1, 0.1], generator=generator)\n",
    "    train_dataset, validation_dataset, test_dataset = torch.utils.data.random_split(dataset, [0.8, 0.1, 0.1])\n",
    "\n",
    "    y = torch.tensor([label for _, label in dataset], dtype=torch.long)\n",
    "\n",
    "    def collate_fn(data):\n",
    "        tensors, targets = zip(*data)\n",
    "        features = torch.nn.utils.rnn.pad_sequence(tensors, batch_first=True)\n",
    "        targets = torch.stack(targets)\n",
    "        return features, targets\n",
    "\n",
    "    global class_weights\n",
    "    class_weights = compute_class_weight(class_weight='balanced', classes=np.unique(y), y=y.numpy())\n",
    "    class_weights = torch.tensor(class_weights, dtype=torch.float)\n",
    "\n",
    "    train_dataloader = DataLoader(train_dataset, batch_size=batch_size, shuffle=True)\n",
    "    validation_dataloader = DataLoader(validation_dataset, batch_size=batch_size, shuffle=True)\n",
    "    test_dataloader = DataLoader(test_dataset, batch_size=batch_size, shuffle=True)\n",
    "\n",
    "    return train_dataloader, validation_dataloader, test_dataloader"
   ]
  },
  {
   "cell_type": "code",
   "execution_count": 23,
   "metadata": {},
   "outputs": [],
   "source": [
    "class TuneableModel(torch.nn.Module):\n",
    "    def __init__(self, input_size, layer_size, dropout_rate, n_layers):\n",
    "        super(TuneableModel, self).__init__()\n",
    "        self.lstm = torch.nn.LSTM(input_size=input_size, hidden_size=layer_size, bidirectional=False, \n",
    "                                  num_layers=n_layers, batch_first=True, dropout=dropout_rate, proj_size=3)\n",
    "        self.output_layer = torch.nn.Linear(1, 3)\n",
    "        self.batchnorm = torch.nn.BatchNorm1d(layer_size)\n",
    "        self.activation = torch.nn.ReLU()\n",
    "        self.linear = torch.nn.Linear(layer_size, layer_size)\n",
    "\n",
    "    def forward(self, x):\n",
    "        x = self.lstm(x)\n",
    "        #print(x[0].shape)\n",
    "        #x = self.activation(x)\n",
    "        # x = self.linear(x)\n",
    "        # x = self.batchnorm(x)\n",
    "        # x = self.activation(x)\n",
    "        # x = self.output_layer(x[0][:,-1:])\n",
    "        return x[0]"
   ]
  },
  {
   "cell_type": "code",
   "execution_count": 20,
   "metadata": {},
   "outputs": [],
   "source": [
    "def train_test(model, dataloader, optimizer, training=\"train\"):\n",
    "   \n",
    "    loss_function = torch.nn.CrossEntropyLoss(weight=class_weights.to(device))\n",
    "\n",
    "    if training == \"train\":\n",
    "        model.train()\n",
    "    elif training == \"validation\":\n",
    "        model.eval()\n",
    "    elif training == \"test\":\n",
    "        model.eval()\n",
    "    else:\n",
    "        raise ValueError(\"training argument must be either 'train', 'validation' or 'test'\")\n",
    "        \n",
    "    cumulative_loss = 0\n",
    "    prediction_list = []\n",
    "    label_list = []\n",
    "    for sample in tqdm(dataloader):\n",
    "        if training == \"train\":\n",
    "            optimizer.zero_grad()\n",
    "        input, targets = sample[0].float().to(device), sample[1].type(torch.LongTensor).to(device)\n",
    "        output = model(input).to(device)\n",
    "        loss_value = loss_function(output, targets)\n",
    "        cumulative_loss += loss_value.item()\n",
    "\n",
    "        if training == \"train\":\n",
    "            loss_value.sum().backward()\n",
    "            optimizer.step()\n",
    "            \n",
    "        predictions = output.to('cpu').detach().numpy().argmax(axis=1)\n",
    "        target_labels = sample[1]\n",
    "        prediction_list.extend(predictions)\n",
    "        label_list.extend(target_labels)\n",
    "    #f1 = f1_score(label_list, prediction_list)\n",
    "    accuracy = accuracy_score(label_list, prediction_list)\n",
    "    #confusion = confusion_matrix(label_list, prediction_list)\n",
    "\n",
    "    return cumulative_loss, accuracy#, f1, confusion"
   ]
  },
  {
   "cell_type": "code",
   "execution_count": 11,
   "metadata": {},
   "outputs": [],
   "source": [
    "# Training sample\n",
    "def evaluate(params, dataset):\n",
    "    dropout, hidden_size, learning_rate, batch_size, n_hidden = params\n",
    "\n",
    "    max_epochs = 1000\n",
    "    max_patience = 5\n",
    "    seed = 42\n",
    "\n",
    "    accuracies = []\n",
    "    f1s = []\n",
    "    train_dataloader, validation_dataloader, test_dataloader = randomly_split_data(dataset, batch_size)\n",
    "    #dataloaders = k_fold_split_data(dataset, batch_size, k=5)\n",
    "    # train_dataloader, validation_dataloader = dataloader[0], dataloader[1]\n",
    "    # test_dataloader = dataloader[1]\n",
    "    PATH = \"model_.pt\"\n",
    "    last_loss = 1000000\n",
    "    torch.manual_seed(seed)\n",
    "    input_size = train_dataloader.dataset[0][0].size()[0]\n",
    "    model = TuneableModel(input_size, hidden_size, dropout, n_hidden)\n",
    "    model.to(device)\n",
    "    optimizer = torch.optim.AdamW(model.parameters(), lr=learning_rate)\n",
    "\n",
    "    for epoch in range(max_epochs):\n",
    "        # training\n",
    "        train_loss, train_accuracy = train_test(model, train_dataloader, optimizer, training=\"train\")\n",
    "        train_loss, train_accuracy = train_loss, round(train_accuracy, 4)\n",
    "        # validation at end of epoch\n",
    "        validation_loss, validation_accuracy = train_test(model, validation_dataloader, optimizer, training=\"validation\")\n",
    "        validation_loss, validation_accuracy = validation_loss, round(validation_accuracy, 4)\n",
    "        if validation_loss < last_loss:\n",
    "            last_loss = validation_loss\n",
    "            current_patience = 0\n",
    "        else:\n",
    "            if current_patience == 0:\n",
    "                torch.save({\n",
    "                    'epoch': epoch,\n",
    "                    'model_state_dict': model.state_dict(),\n",
    "                    'optimizer_state_dict': optimizer.state_dict(),\n",
    "                    'loss': last_loss,\n",
    "                    }, PATH)\n",
    "            current_patience += 1\n",
    "        if current_patience == max_patience:\n",
    "            break   \n",
    "        if epoch % 1 == 0:\n",
    "            print(f\"Epoch {epoch} validation loss: {validation_loss} validation accuracy: {validation_accuracy*100}%\")\n",
    "    # Testing once patience is reached\n",
    "    torch.manual_seed(seed)\n",
    "    model = TuneableModel(input_size, hidden_size, dropout, n_hidden)\n",
    "    model.to(device)\n",
    "    optimizer = torch.optim.AdamW(model.parameters(), lr=learning_rate)\n",
    "    checkpoint = torch.load(PATH)\n",
    "    model.load_state_dict(checkpoint['model_state_dict'])\n",
    "    optimizer.load_state_dict(checkpoint['optimizer_state_dict'])\n",
    "    test_loss, test_accuracy = train_test(model, test_dataloader, optimizer, training=\"test\")\n",
    "    test_loss, test_accuracy = test_loss, test_accuracy\n",
    "    #print(f\"Model {i} at epoch {checkpoint['epoch']} test results: accuracy: {test_accuracy*100}% f1: {test_f1}\")\n",
    "    # accuracies.append(test_accuracy)\n",
    "    # f1s.append(test_f1)\n",
    "    #print(test_confusion)\n",
    "\n",
    "    return round(test_accuracy*100, )\n",
    "    # print(f\"Average accuracy: {round(np.mean(accuracies), 2)}%\")\n",
    "    # print(f\"Average f1: {round(np.mean(f1s), 2)}\")\n"
   ]
  },
  {
   "cell_type": "code",
   "execution_count": 27,
   "metadata": {},
   "outputs": [
    {
     "name": "stderr",
     "output_type": "stream",
     "text": [
      "100%|██████████| 210/210 [00:06<00:00, 34.49it/s]\n",
      "100%|██████████| 27/27 [00:00<00:00, 60.98it/s]\n"
     ]
    },
    {
     "name": "stdout",
     "output_type": "stream",
     "text": [
      "Epoch 0 validation loss: 30.451615929603577 validation accuracy: 41.18%\n"
     ]
    },
    {
     "name": "stderr",
     "output_type": "stream",
     "text": [
      "100%|██████████| 210/210 [00:06<00:00, 34.05it/s]\n",
      "100%|██████████| 27/27 [00:00<00:00, 59.49it/s]\n"
     ]
    },
    {
     "name": "stdout",
     "output_type": "stream",
     "text": [
      "Epoch 1 validation loss: 30.49709379673004 validation accuracy: 41.68%\n"
     ]
    },
    {
     "name": "stderr",
     "output_type": "stream",
     "text": [
      "100%|██████████| 210/210 [00:06<00:00, 32.20it/s]\n",
      "100%|██████████| 27/27 [00:00<00:00, 56.05it/s]\n"
     ]
    },
    {
     "name": "stdout",
     "output_type": "stream",
     "text": [
      "Epoch 2 validation loss: 30.402788519859314 validation accuracy: 41.68%\n"
     ]
    },
    {
     "name": "stderr",
     "output_type": "stream",
     "text": [
      "100%|██████████| 210/210 [00:06<00:00, 31.53it/s]\n",
      "100%|██████████| 27/27 [00:00<00:00, 61.78it/s]\n"
     ]
    },
    {
     "name": "stdout",
     "output_type": "stream",
     "text": [
      "Epoch 3 validation loss: 30.203062653541565 validation accuracy: 42.32%\n"
     ]
    },
    {
     "name": "stderr",
     "output_type": "stream",
     "text": [
      "100%|██████████| 210/210 [00:06<00:00, 31.81it/s]\n",
      "100%|██████████| 27/27 [00:00<00:00, 37.56it/s]\n"
     ]
    },
    {
     "name": "stdout",
     "output_type": "stream",
     "text": [
      "Epoch 4 validation loss: 30.296914935112 validation accuracy: 40.9%\n"
     ]
    },
    {
     "name": "stderr",
     "output_type": "stream",
     "text": [
      "100%|██████████| 210/210 [00:06<00:00, 31.08it/s]\n",
      "100%|██████████| 27/27 [00:00<00:00, 59.76it/s]\n"
     ]
    },
    {
     "name": "stdout",
     "output_type": "stream",
     "text": [
      "Epoch 5 validation loss: 30.21062695980072 validation accuracy: 40.839999999999996%\n"
     ]
    },
    {
     "name": "stderr",
     "output_type": "stream",
     "text": [
      "100%|██████████| 210/210 [00:06<00:00, 31.36it/s]\n",
      "100%|██████████| 27/27 [00:00<00:00, 61.62it/s]\n"
     ]
    },
    {
     "name": "stdout",
     "output_type": "stream",
     "text": [
      "Epoch 6 validation loss: 30.168136954307556 validation accuracy: 40.11%\n"
     ]
    },
    {
     "name": "stderr",
     "output_type": "stream",
     "text": [
      "100%|██████████| 210/210 [00:06<00:00, 32.28it/s]\n",
      "100%|██████████| 27/27 [00:00<00:00, 60.91it/s]\n"
     ]
    },
    {
     "name": "stdout",
     "output_type": "stream",
     "text": [
      "Epoch 7 validation loss: 30.008594274520874 validation accuracy: 40.33%\n"
     ]
    },
    {
     "name": "stderr",
     "output_type": "stream",
     "text": [
      "100%|██████████| 210/210 [00:06<00:00, 33.34it/s]\n",
      "100%|██████████| 27/27 [00:00<00:00, 58.52it/s]\n"
     ]
    },
    {
     "name": "stdout",
     "output_type": "stream",
     "text": [
      "Epoch 8 validation loss: 30.012887716293335 validation accuracy: 39.839999999999996%\n"
     ]
    },
    {
     "name": "stderr",
     "output_type": "stream",
     "text": [
      "100%|██████████| 210/210 [00:06<00:00, 31.55it/s]\n",
      "100%|██████████| 27/27 [00:00<00:00, 44.87it/s]\n"
     ]
    },
    {
     "name": "stdout",
     "output_type": "stream",
     "text": [
      "Epoch 9 validation loss: 30.020389676094055 validation accuracy: 40.07%\n"
     ]
    },
    {
     "name": "stderr",
     "output_type": "stream",
     "text": [
      "100%|██████████| 210/210 [00:07<00:00, 29.14it/s]\n",
      "100%|██████████| 27/27 [00:00<00:00, 56.62it/s]\n"
     ]
    },
    {
     "name": "stdout",
     "output_type": "stream",
     "text": [
      "Epoch 10 validation loss: 29.983818888664246 validation accuracy: 39.589999999999996%\n"
     ]
    },
    {
     "name": "stderr",
     "output_type": "stream",
     "text": [
      "100%|██████████| 210/210 [00:07<00:00, 29.73it/s]\n",
      "100%|██████████| 27/27 [00:00<00:00, 60.56it/s]\n"
     ]
    },
    {
     "name": "stdout",
     "output_type": "stream",
     "text": [
      "Epoch 11 validation loss: 29.923231959342957 validation accuracy: 39.72%\n"
     ]
    },
    {
     "name": "stderr",
     "output_type": "stream",
     "text": [
      "100%|██████████| 210/210 [00:07<00:00, 29.61it/s]\n",
      "100%|██████████| 27/27 [00:00<00:00, 57.44it/s]\n"
     ]
    },
    {
     "name": "stdout",
     "output_type": "stream",
     "text": [
      "Epoch 12 validation loss: 29.924047470092773 validation accuracy: 40.45%\n"
     ]
    },
    {
     "name": "stderr",
     "output_type": "stream",
     "text": [
      "100%|██████████| 210/210 [00:07<00:00, 27.50it/s]\n",
      "100%|██████████| 27/27 [00:00<00:00, 53.54it/s]\n"
     ]
    },
    {
     "name": "stdout",
     "output_type": "stream",
     "text": [
      "Epoch 13 validation loss: 29.82418918609619 validation accuracy: 40.39%\n"
     ]
    },
    {
     "name": "stderr",
     "output_type": "stream",
     "text": [
      "100%|██████████| 210/210 [00:07<00:00, 28.04it/s]\n",
      "100%|██████████| 27/27 [00:00<00:00, 55.44it/s]\n"
     ]
    },
    {
     "name": "stdout",
     "output_type": "stream",
     "text": [
      "Epoch 14 validation loss: 29.882805705070496 validation accuracy: 39.72%\n"
     ]
    },
    {
     "name": "stderr",
     "output_type": "stream",
     "text": [
      "100%|██████████| 210/210 [00:07<00:00, 29.05it/s]\n",
      "100%|██████████| 27/27 [00:00<00:00, 58.84it/s]\n"
     ]
    },
    {
     "name": "stdout",
     "output_type": "stream",
     "text": [
      "Epoch 15 validation loss: 29.80061686038971 validation accuracy: 39.6%\n"
     ]
    },
    {
     "name": "stderr",
     "output_type": "stream",
     "text": [
      "100%|██████████| 210/210 [00:07<00:00, 28.85it/s]\n",
      "100%|██████████| 27/27 [00:00<00:00, 57.16it/s]\n"
     ]
    },
    {
     "name": "stdout",
     "output_type": "stream",
     "text": [
      "Epoch 16 validation loss: 29.848666667938232 validation accuracy: 38.87%\n"
     ]
    },
    {
     "name": "stderr",
     "output_type": "stream",
     "text": [
      "100%|██████████| 210/210 [00:07<00:00, 28.49it/s]\n",
      "100%|██████████| 27/27 [00:00<00:00, 59.90it/s]\n"
     ]
    },
    {
     "name": "stdout",
     "output_type": "stream",
     "text": [
      "Epoch 17 validation loss: 29.80362832546234 validation accuracy: 39.739999999999995%\n"
     ]
    },
    {
     "name": "stderr",
     "output_type": "stream",
     "text": [
      "100%|██████████| 210/210 [00:07<00:00, 29.10it/s]\n",
      "100%|██████████| 27/27 [00:00<00:00, 60.92it/s]\n"
     ]
    },
    {
     "name": "stdout",
     "output_type": "stream",
     "text": [
      "Epoch 18 validation loss: 29.775763392448425 validation accuracy: 39.379999999999995%\n"
     ]
    },
    {
     "name": "stderr",
     "output_type": "stream",
     "text": [
      "100%|██████████| 210/210 [00:07<00:00, 29.10it/s]\n",
      "100%|██████████| 27/27 [00:00<00:00, 58.91it/s]\n"
     ]
    },
    {
     "name": "stdout",
     "output_type": "stream",
     "text": [
      "Epoch 19 validation loss: 29.77908170223236 validation accuracy: 39.800000000000004%\n"
     ]
    },
    {
     "name": "stderr",
     "output_type": "stream",
     "text": [
      "100%|██████████| 210/210 [00:07<00:00, 28.08it/s]\n",
      "100%|██████████| 27/27 [00:00<00:00, 47.17it/s]\n"
     ]
    },
    {
     "name": "stdout",
     "output_type": "stream",
     "text": [
      "Epoch 20 validation loss: 29.774328351020813 validation accuracy: 39.11%\n"
     ]
    },
    {
     "name": "stderr",
     "output_type": "stream",
     "text": [
      "100%|██████████| 210/210 [00:07<00:00, 28.03it/s]\n",
      "100%|██████████| 27/27 [00:00<00:00, 57.82it/s]\n"
     ]
    },
    {
     "name": "stdout",
     "output_type": "stream",
     "text": [
      "Epoch 21 validation loss: 29.73792541027069 validation accuracy: 39.33%\n"
     ]
    },
    {
     "name": "stderr",
     "output_type": "stream",
     "text": [
      "100%|██████████| 210/210 [00:07<00:00, 28.57it/s]\n",
      "100%|██████████| 27/27 [00:00<00:00, 61.16it/s]\n"
     ]
    },
    {
     "name": "stdout",
     "output_type": "stream",
     "text": [
      "Epoch 22 validation loss: 29.730315804481506 validation accuracy: 39.39%\n"
     ]
    },
    {
     "name": "stderr",
     "output_type": "stream",
     "text": [
      "100%|██████████| 210/210 [00:07<00:00, 29.54it/s]\n",
      "100%|██████████| 27/27 [00:00<00:00, 60.56it/s]\n"
     ]
    },
    {
     "name": "stdout",
     "output_type": "stream",
     "text": [
      "Epoch 23 validation loss: 29.687737107276917 validation accuracy: 39.57%\n"
     ]
    },
    {
     "name": "stderr",
     "output_type": "stream",
     "text": [
      "100%|██████████| 210/210 [00:07<00:00, 29.74it/s]\n",
      "100%|██████████| 27/27 [00:00<00:00, 52.33it/s]\n"
     ]
    },
    {
     "name": "stdout",
     "output_type": "stream",
     "text": [
      "Epoch 24 validation loss: 29.71449041366577 validation accuracy: 39.42%\n"
     ]
    },
    {
     "name": "stderr",
     "output_type": "stream",
     "text": [
      "100%|██████████| 210/210 [00:07<00:00, 28.69it/s]\n",
      "100%|██████████| 27/27 [00:00<00:00, 57.68it/s]\n"
     ]
    },
    {
     "name": "stdout",
     "output_type": "stream",
     "text": [
      "Epoch 25 validation loss: 29.704015493392944 validation accuracy: 38.14%\n"
     ]
    },
    {
     "name": "stderr",
     "output_type": "stream",
     "text": [
      "100%|██████████| 210/210 [00:06<00:00, 30.39it/s]\n",
      "100%|██████████| 27/27 [00:00<00:00, 51.81it/s]\n"
     ]
    },
    {
     "name": "stdout",
     "output_type": "stream",
     "text": [
      "Epoch 26 validation loss: 29.70131254196167 validation accuracy: 37.05%\n"
     ]
    },
    {
     "name": "stderr",
     "output_type": "stream",
     "text": [
      "100%|██████████| 210/210 [00:07<00:00, 28.18it/s]\n",
      "100%|██████████| 27/27 [00:00<00:00, 56.17it/s]\n"
     ]
    },
    {
     "name": "stdout",
     "output_type": "stream",
     "text": [
      "Epoch 27 validation loss: 29.699397444725037 validation accuracy: 36.86%\n"
     ]
    },
    {
     "name": "stderr",
     "output_type": "stream",
     "text": [
      "100%|██████████| 210/210 [00:07<00:00, 28.08it/s]\n",
      "100%|██████████| 27/27 [00:00<00:00, 57.31it/s]\n",
      "100%|██████████| 27/27 [00:00<00:00, 54.83it/s]\n"
     ]
    },
    {
     "name": "stdout",
     "output_type": "stream",
     "text": [
      "final test accuracy: 38%\n"
     ]
    }
   ],
   "source": [
    "dataset = zipped\n",
    "params = (0.0, 5, 0.0001, 256, 1)\n",
    "accuracy= evaluate(params, dataset)\n",
    "print(f\"final test accuracy: {accuracy}%\")"
   ]
  }
 ],
 "metadata": {
  "kernelspec": {
   "display_name": "Python 3",
   "language": "python",
   "name": "python3"
  },
  "language_info": {
   "codemirror_mode": {
    "name": "ipython",
    "version": 3
   },
   "file_extension": ".py",
   "mimetype": "text/x-python",
   "name": "python",
   "nbconvert_exporter": "python",
   "pygments_lexer": "ipython3",
   "version": "3.11.5"
  }
 },
 "nbformat": 4,
 "nbformat_minor": 2
}
